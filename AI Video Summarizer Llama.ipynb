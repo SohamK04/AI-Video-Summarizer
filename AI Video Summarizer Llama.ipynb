{
  "nbformat": 4,
  "nbformat_minor": 0,
  "metadata": {
    "colab": {
      "provenance": [],
      "gpuType": "T4",
      "mount_file_id": "1leOZfnyORxj8Fv6ihN6dJIdK5s8VSqt5",
      "authorship_tag": "ABX9TyM4esUottPEqtCA2NeoQJJE",
      "include_colab_link": true
    },
    "kernelspec": {
      "name": "python3",
      "display_name": "Python 3"
    },
    "language_info": {
      "name": "python"
    },
    "accelerator": "GPU"
  },
  "cells": [
    {
      "cell_type": "markdown",
      "metadata": {
        "id": "view-in-github",
        "colab_type": "text"
      },
      "source": [
        "<a href=\"https://colab.research.google.com/github/SohamK04/AI-Video-Summarizer/blob/main/AI%20Video%20Summarizer%20Llama.ipynb\" target=\"_parent\"><img src=\"https://colab.research.google.com/assets/colab-badge.svg\" alt=\"Open In Colab\"/></a>"
      ]
    },
    {
      "cell_type": "code",
      "source": [
        "# Install the required dependencies\n",
        "!pip uninstall whisper -y  # Uninstall any incorrect whisper package\n",
        "!pip install openai-whisper  # Install OpenAI's Whisper\n",
        "!pip install moviepy\n",
        "!pip install transformers\n",
        "!pip install scikit-learn  # Install scikit-learn for cosine similarity\n",
        "\n",
        "import os\n",
        "import torch\n",
        "import json\n",
        "import subprocess\n",
        "import whisper  # OpenAI Whisper library\n",
        "from transformers import AutoModelForSeq2SeqLM, AutoTokenizer\n",
        "from moviepy.editor import VideoFileClip\n",
        "from sklearn.metrics.pairwise import cosine_similarity\n",
        "import numpy as np\n",
        "\n",
        "# Function to install missing dependencies\n",
        "def install_if_missing(package, import_name=None):\n",
        "    if import_name is None:\n",
        "        import_name = package\n",
        "    try:\n",
        "        __import__(import_name)\n",
        "    except ModuleNotFoundError:\n",
        "        subprocess.check_call([\"pip\", \"install\", package])\n",
        "        __import__(import_name)\n",
        "\n",
        "install_if_missing(\"moviepy\")\n",
        "install_if_missing(\"whisper\")\n",
        "\n",
        "# Load Whisper model for transcription\n",
        "whisper_model = whisper.load_model(\"small\")\n",
        "\n",
        "# Replace LaMini with BART (open model)\n",
        "MODEL_NAME = \"facebook/bart-large-cnn\"  # An open model for summarization\n",
        "device = \"cuda\" if torch.cuda.is_available() else \"cpu\"\n",
        "tokenizer = AutoTokenizer.from_pretrained(MODEL_NAME)\n",
        "model = AutoModelForSeq2SeqLM.from_pretrained(MODEL_NAME).to(device)\n",
        "\n",
        "# Extract audio from video and transcribe using Whisper\n",
        "def extract_and_transcribe(video_path):\n",
        "    audio_path = video_path.replace(\".mp4\", \".wav\")\n",
        "    video = VideoFileClip(video_path)\n",
        "    video.audio.write_audiofile(audio_path, codec='pcm_s16le')\n",
        "\n",
        "    result = whisper_model.transcribe(audio_path)\n",
        "    transcript = result[\"text\"]\n",
        "\n",
        "    os.remove(audio_path)  # Cleanup audio file\n",
        "    return transcript\n",
        "\n",
        "# Summarize transcript using BART model\n",
        "def summarize_bart(transcript):\n",
        "    inputs = tokenizer(\"summarize: \" + transcript, return_tensors=\"pt\", max_length=512, truncation=True).to(device)\n",
        "    summary_ids = model.generate(**inputs, max_length=250)\n",
        "    return tokenizer.decode(summary_ids[0], skip_special_tokens=True)\n",
        "\n",
        "# Compute scores based on summary quality using cosine similarity\n",
        "def compute_scores(original, summary):\n",
        "    # Convert original and summary to token embeddings using the tokenizer\n",
        "    original_tokens = tokenizer(original, return_tensors=\"pt\", padding=True, truncation=True, max_length=512).to(device)\n",
        "    summary_tokens = tokenizer(summary, return_tensors=\"pt\", padding=True, truncation=True, max_length=512).to(device)\n",
        "\n",
        "    # Calculate embeddings for original and summary text\n",
        "    original_embeddings = model.base_model.get_input_embeddings()(original_tokens.input_ids).detach().cpu().numpy()\n",
        "    summary_embeddings = model.base_model.get_input_embeddings()(summary_tokens.input_ids).detach().cpu().numpy()\n",
        "\n",
        "    # Average the token embeddings to get a single vector representation per sequence\n",
        "    original_avg_embedding = original_embeddings.mean(axis=1)  # Average over tokens\n",
        "    summary_avg_embedding = summary_embeddings.mean(axis=1)  # Average over tokens\n",
        "\n",
        "    # Calculate cosine similarity between the averaged embeddings\n",
        "    similarity = cosine_similarity(original_avg_embedding, summary_avg_embedding)\n",
        "\n",
        "    # Formula to compute accuracy, loss, and hallucination\n",
        "    accuracy = np.clip(similarity.mean(), 0, 1)  # Average cosine similarity is used as accuracy\n",
        "    loss = 1 - accuracy  # Higher loss when accuracy is lower\n",
        "\n",
        "    # Hallucination Score: If cosine similarity is low, more hallucination\n",
        "    hallucination_score = 1 - accuracy  # Hallucination score is inversely related to similarity\n",
        "\n",
        "    # Optional: More detailed hallucination detection based on unique token counts\n",
        "    original_tokens_set = set(original.lower().split())\n",
        "    summary_tokens_set = set(summary.lower().split())\n",
        "    hallucinated_tokens = summary_tokens_set - original_tokens_set\n",
        "    hallucination_score = len(hallucinated_tokens) / len(summary_tokens_set)  # Percentage of hallucinated tokens\n",
        "\n",
        "    return accuracy, loss, hallucination_score\n",
        "\n",
        "# Process uploaded videos from Google Drive\n",
        "video_folder = \"/content/drive/MyDrive/video\"\n",
        "video_paths = [os.path.join(video_folder, f) for f in os.listdir(video_folder) if f.endswith(\".mp4\")]\n",
        "\n",
        "for video_path in video_paths:\n",
        "    print(f\"Processing video: {video_path}\")\n",
        "    transcript = extract_and_transcribe(video_path)\n",
        "    summary = summarize_bart(transcript)\n",
        "\n",
        "    accuracy, loss, hallucination_score = compute_scores(transcript, summary)\n",
        "\n",
        "    print(f\"Summary for {video_path}:\")\n",
        "    print(summary)\n",
        "    print(f\"Accuracy: {accuracy * 100:.2f}%\")\n",
        "    print(f\"Loss: {loss * 100:.2f}%\")\n",
        "    print(f\"Hallucination Score: {hallucination_score * 100:.2f}%\")\n",
        "    print(\"-\" * 40)\n"
      ],
      "metadata": {
        "colab": {
          "base_uri": "https://localhost:8080/"
        },
        "id": "mVCRTj2eiYEO",
        "outputId": "d110ae44-8b27-4902-9061-a2789fa402ab"
      },
      "execution_count": 8,
      "outputs": [
        {
          "output_type": "stream",
          "name": "stdout",
          "text": [
            "\u001b[33mWARNING: Skipping whisper as it is not installed.\u001b[0m\u001b[33m\n",
            "\u001b[0mRequirement already satisfied: openai-whisper in /usr/local/lib/python3.11/dist-packages (20240930)\n",
            "Requirement already satisfied: numba in /usr/local/lib/python3.11/dist-packages (from openai-whisper) (0.61.0)\n",
            "Requirement already satisfied: numpy in /usr/local/lib/python3.11/dist-packages (from openai-whisper) (1.26.4)\n",
            "Requirement already satisfied: torch in /usr/local/lib/python3.11/dist-packages (from openai-whisper) (2.5.1+cu124)\n",
            "Requirement already satisfied: tqdm in /usr/local/lib/python3.11/dist-packages (from openai-whisper) (4.67.1)\n",
            "Requirement already satisfied: more-itertools in /usr/local/lib/python3.11/dist-packages (from openai-whisper) (10.6.0)\n",
            "Requirement already satisfied: tiktoken in /usr/local/lib/python3.11/dist-packages (from openai-whisper) (0.9.0)\n",
            "Requirement already satisfied: triton>=2.0.0 in /usr/local/lib/python3.11/dist-packages (from openai-whisper) (3.1.0)\n",
            "Requirement already satisfied: filelock in /usr/local/lib/python3.11/dist-packages (from triton>=2.0.0->openai-whisper) (3.17.0)\n",
            "Requirement already satisfied: llvmlite<0.45,>=0.44.0dev0 in /usr/local/lib/python3.11/dist-packages (from numba->openai-whisper) (0.44.0)\n",
            "Requirement already satisfied: regex>=2022.1.18 in /usr/local/lib/python3.11/dist-packages (from tiktoken->openai-whisper) (2024.11.6)\n",
            "Requirement already satisfied: requests>=2.26.0 in /usr/local/lib/python3.11/dist-packages (from tiktoken->openai-whisper) (2.32.3)\n",
            "Requirement already satisfied: typing-extensions>=4.8.0 in /usr/local/lib/python3.11/dist-packages (from torch->openai-whisper) (4.12.2)\n",
            "Requirement already satisfied: networkx in /usr/local/lib/python3.11/dist-packages (from torch->openai-whisper) (3.4.2)\n",
            "Requirement already satisfied: jinja2 in /usr/local/lib/python3.11/dist-packages (from torch->openai-whisper) (3.1.5)\n",
            "Requirement already satisfied: fsspec in /usr/local/lib/python3.11/dist-packages (from torch->openai-whisper) (2024.10.0)\n",
            "Requirement already satisfied: nvidia-cuda-nvrtc-cu12==12.4.127 in /usr/local/lib/python3.11/dist-packages (from torch->openai-whisper) (12.4.127)\n",
            "Requirement already satisfied: nvidia-cuda-runtime-cu12==12.4.127 in /usr/local/lib/python3.11/dist-packages (from torch->openai-whisper) (12.4.127)\n",
            "Requirement already satisfied: nvidia-cuda-cupti-cu12==12.4.127 in /usr/local/lib/python3.11/dist-packages (from torch->openai-whisper) (12.4.127)\n",
            "Requirement already satisfied: nvidia-cudnn-cu12==9.1.0.70 in /usr/local/lib/python3.11/dist-packages (from torch->openai-whisper) (9.1.0.70)\n",
            "Requirement already satisfied: nvidia-cublas-cu12==12.4.5.8 in /usr/local/lib/python3.11/dist-packages (from torch->openai-whisper) (12.4.5.8)\n",
            "Requirement already satisfied: nvidia-cufft-cu12==11.2.1.3 in /usr/local/lib/python3.11/dist-packages (from torch->openai-whisper) (11.2.1.3)\n",
            "Requirement already satisfied: nvidia-curand-cu12==10.3.5.147 in /usr/local/lib/python3.11/dist-packages (from torch->openai-whisper) (10.3.5.147)\n",
            "Requirement already satisfied: nvidia-cusolver-cu12==11.6.1.9 in /usr/local/lib/python3.11/dist-packages (from torch->openai-whisper) (11.6.1.9)\n",
            "Requirement already satisfied: nvidia-cusparse-cu12==12.3.1.170 in /usr/local/lib/python3.11/dist-packages (from torch->openai-whisper) (12.3.1.170)\n",
            "Requirement already satisfied: nvidia-nccl-cu12==2.21.5 in /usr/local/lib/python3.11/dist-packages (from torch->openai-whisper) (2.21.5)\n",
            "Requirement already satisfied: nvidia-nvtx-cu12==12.4.127 in /usr/local/lib/python3.11/dist-packages (from torch->openai-whisper) (12.4.127)\n",
            "Requirement already satisfied: nvidia-nvjitlink-cu12==12.4.127 in /usr/local/lib/python3.11/dist-packages (from torch->openai-whisper) (12.4.127)\n",
            "Requirement already satisfied: sympy==1.13.1 in /usr/local/lib/python3.11/dist-packages (from torch->openai-whisper) (1.13.1)\n",
            "Requirement already satisfied: mpmath<1.4,>=1.1.0 in /usr/local/lib/python3.11/dist-packages (from sympy==1.13.1->torch->openai-whisper) (1.3.0)\n",
            "Requirement already satisfied: charset-normalizer<4,>=2 in /usr/local/lib/python3.11/dist-packages (from requests>=2.26.0->tiktoken->openai-whisper) (3.4.1)\n",
            "Requirement already satisfied: idna<4,>=2.5 in /usr/local/lib/python3.11/dist-packages (from requests>=2.26.0->tiktoken->openai-whisper) (3.10)\n",
            "Requirement already satisfied: urllib3<3,>=1.21.1 in /usr/local/lib/python3.11/dist-packages (from requests>=2.26.0->tiktoken->openai-whisper) (2.3.0)\n",
            "Requirement already satisfied: certifi>=2017.4.17 in /usr/local/lib/python3.11/dist-packages (from requests>=2.26.0->tiktoken->openai-whisper) (2025.1.31)\n",
            "Requirement already satisfied: MarkupSafe>=2.0 in /usr/local/lib/python3.11/dist-packages (from jinja2->torch->openai-whisper) (3.0.2)\n",
            "Requirement already satisfied: moviepy in /usr/local/lib/python3.11/dist-packages (1.0.3)\n",
            "Requirement already satisfied: decorator<5.0,>=4.0.2 in /usr/local/lib/python3.11/dist-packages (from moviepy) (4.4.2)\n",
            "Requirement already satisfied: imageio<3.0,>=2.5 in /usr/local/lib/python3.11/dist-packages (from moviepy) (2.37.0)\n",
            "Requirement already satisfied: imageio_ffmpeg>=0.2.0 in /usr/local/lib/python3.11/dist-packages (from moviepy) (0.6.0)\n",
            "Requirement already satisfied: tqdm<5.0,>=4.11.2 in /usr/local/lib/python3.11/dist-packages (from moviepy) (4.67.1)\n",
            "Requirement already satisfied: numpy>=1.17.3 in /usr/local/lib/python3.11/dist-packages (from moviepy) (1.26.4)\n",
            "Requirement already satisfied: requests<3.0,>=2.8.1 in /usr/local/lib/python3.11/dist-packages (from moviepy) (2.32.3)\n",
            "Requirement already satisfied: proglog<=1.0.0 in /usr/local/lib/python3.11/dist-packages (from moviepy) (0.1.10)\n",
            "Requirement already satisfied: pillow>=8.3.2 in /usr/local/lib/python3.11/dist-packages (from imageio<3.0,>=2.5->moviepy) (11.1.0)\n",
            "Requirement already satisfied: charset-normalizer<4,>=2 in /usr/local/lib/python3.11/dist-packages (from requests<3.0,>=2.8.1->moviepy) (3.4.1)\n",
            "Requirement already satisfied: idna<4,>=2.5 in /usr/local/lib/python3.11/dist-packages (from requests<3.0,>=2.8.1->moviepy) (3.10)\n",
            "Requirement already satisfied: urllib3<3,>=1.21.1 in /usr/local/lib/python3.11/dist-packages (from requests<3.0,>=2.8.1->moviepy) (2.3.0)\n",
            "Requirement already satisfied: certifi>=2017.4.17 in /usr/local/lib/python3.11/dist-packages (from requests<3.0,>=2.8.1->moviepy) (2025.1.31)\n",
            "Requirement already satisfied: transformers in /usr/local/lib/python3.11/dist-packages (4.48.3)\n",
            "Requirement already satisfied: filelock in /usr/local/lib/python3.11/dist-packages (from transformers) (3.17.0)\n",
            "Requirement already satisfied: huggingface-hub<1.0,>=0.24.0 in /usr/local/lib/python3.11/dist-packages (from transformers) (0.28.1)\n",
            "Requirement already satisfied: numpy>=1.17 in /usr/local/lib/python3.11/dist-packages (from transformers) (1.26.4)\n",
            "Requirement already satisfied: packaging>=20.0 in /usr/local/lib/python3.11/dist-packages (from transformers) (24.2)\n",
            "Requirement already satisfied: pyyaml>=5.1 in /usr/local/lib/python3.11/dist-packages (from transformers) (6.0.2)\n",
            "Requirement already satisfied: regex!=2019.12.17 in /usr/local/lib/python3.11/dist-packages (from transformers) (2024.11.6)\n",
            "Requirement already satisfied: requests in /usr/local/lib/python3.11/dist-packages (from transformers) (2.32.3)\n",
            "Requirement already satisfied: tokenizers<0.22,>=0.21 in /usr/local/lib/python3.11/dist-packages (from transformers) (0.21.0)\n",
            "Requirement already satisfied: safetensors>=0.4.1 in /usr/local/lib/python3.11/dist-packages (from transformers) (0.5.2)\n",
            "Requirement already satisfied: tqdm>=4.27 in /usr/local/lib/python3.11/dist-packages (from transformers) (4.67.1)\n",
            "Requirement already satisfied: fsspec>=2023.5.0 in /usr/local/lib/python3.11/dist-packages (from huggingface-hub<1.0,>=0.24.0->transformers) (2024.10.0)\n",
            "Requirement already satisfied: typing-extensions>=3.7.4.3 in /usr/local/lib/python3.11/dist-packages (from huggingface-hub<1.0,>=0.24.0->transformers) (4.12.2)\n",
            "Requirement already satisfied: charset-normalizer<4,>=2 in /usr/local/lib/python3.11/dist-packages (from requests->transformers) (3.4.1)\n",
            "Requirement already satisfied: idna<4,>=2.5 in /usr/local/lib/python3.11/dist-packages (from requests->transformers) (3.10)\n",
            "Requirement already satisfied: urllib3<3,>=1.21.1 in /usr/local/lib/python3.11/dist-packages (from requests->transformers) (2.3.0)\n",
            "Requirement already satisfied: certifi>=2017.4.17 in /usr/local/lib/python3.11/dist-packages (from requests->transformers) (2025.1.31)\n",
            "Requirement already satisfied: scikit-learn in /usr/local/lib/python3.11/dist-packages (1.6.1)\n",
            "Requirement already satisfied: numpy>=1.19.5 in /usr/local/lib/python3.11/dist-packages (from scikit-learn) (1.26.4)\n",
            "Requirement already satisfied: scipy>=1.6.0 in /usr/local/lib/python3.11/dist-packages (from scikit-learn) (1.13.1)\n",
            "Requirement already satisfied: joblib>=1.2.0 in /usr/local/lib/python3.11/dist-packages (from scikit-learn) (1.4.2)\n",
            "Requirement already satisfied: threadpoolctl>=3.1.0 in /usr/local/lib/python3.11/dist-packages (from scikit-learn) (3.5.0)\n"
          ]
        },
        {
          "output_type": "stream",
          "name": "stderr",
          "text": [
            "WARNING:py.warnings:/usr/local/lib/python3.11/dist-packages/whisper/__init__.py:150: FutureWarning: You are using `torch.load` with `weights_only=False` (the current default value), which uses the default pickle module implicitly. It is possible to construct malicious pickle data which will execute arbitrary code during unpickling (See https://github.com/pytorch/pytorch/blob/main/SECURITY.md#untrusted-models for more details). In a future release, the default value for `weights_only` will be flipped to `True`. This limits the functions that could be executed during unpickling. Arbitrary objects will no longer be allowed to be loaded via this mode unless they are explicitly allowlisted by the user via `torch.serialization.add_safe_globals`. We recommend you start setting `weights_only=True` for any use case where you don't have full control of the loaded file. Please open an issue on GitHub for any issues related to this experimental feature.\n",
            "  checkpoint = torch.load(fp, map_location=device)\n",
            "\n"
          ]
        },
        {
          "output_type": "stream",
          "name": "stdout",
          "text": [
            "Processing video: /content/drive/MyDrive/video/-esJrBWj2d8.mp4\n",
            "MoviePy - Writing audio in /content/drive/MyDrive/video/-esJrBWj2d8.wav\n"
          ]
        },
        {
          "output_type": "stream",
          "name": "stderr",
          "text": []
        },
        {
          "output_type": "stream",
          "name": "stdout",
          "text": [
            "MoviePy - Done.\n",
            "Summary for /content/drive/MyDrive/video/-esJrBWj2d8.mp4:\n",
            "\"This is Miffy's show. We just fed our cat dog food. It's kind of funny\" \"Miffy survived the night. She ate dog food and didn't get sick. Did you, Miff? You're pretty healthy\" \"I like it when she sticks her head in the final. It feels good\"\n",
            "Accuracy: 92.21%\n",
            "Loss: 7.79%\n",
            "Hallucination Score: 13.95%\n",
            "----------------------------------------\n",
            "Processing video: /content/drive/MyDrive/video/b626MiF1ew4.mp4\n",
            "MoviePy - Writing audio in /content/drive/MyDrive/video/b626MiF1ew4.wav\n"
          ]
        },
        {
          "output_type": "stream",
          "name": "stderr",
          "text": []
        },
        {
          "output_type": "stream",
          "name": "stdout",
          "text": [
            "MoviePy - Done.\n",
            "Summary for /content/drive/MyDrive/video/b626MiF1ew4.mp4:\n",
            "Parkour is a discipline of training your mind and body to overcome obstacles. It's a process of breaking down obstacles in your head and figuring out the different parts. You might be physically capable of doing a new jump, but at the same time there's a fear telling you, like, oh you're going to get hurt.\n",
            "Accuracy: 94.43%\n",
            "Loss: 5.57%\n",
            "Hallucination Score: 0.00%\n",
            "----------------------------------------\n",
            "Processing video: /content/drive/MyDrive/video/91IHQYk1IQM.mp4\n",
            "MoviePy - Writing audio in /content/drive/MyDrive/video/91IHQYk1IQM.wav\n"
          ]
        },
        {
          "output_type": "stream",
          "name": "stderr",
          "text": []
        },
        {
          "output_type": "stream",
          "name": "stdout",
          "text": [
            "MoviePy - Done.\n",
            "Summary for /content/drive/MyDrive/video/91IHQYk1IQM.mp4:\n",
            "summarize:  Music Music Music. Music Music, Music Music and Music Music is a collection of some of the world's best-known songs. The songs are arranged in a variety of styles, from jazz to classical to hip-hop. For more information on the songs, visit: www.musik.org.\n",
            "Accuracy: 52.47%\n",
            "Loss: 47.53%\n",
            "Hallucination Score: 96.88%\n",
            "----------------------------------------\n",
            "Processing video: /content/drive/MyDrive/video/37rzWOQsNIw.mp4\n",
            "MoviePy - Writing audio in /content/drive/MyDrive/video/37rzWOQsNIw.wav\n"
          ]
        },
        {
          "output_type": "stream",
          "name": "stderr",
          "text": []
        },
        {
          "output_type": "stream",
          "name": "stdout",
          "text": [
            "MoviePy - Done.\n",
            "Summary for /content/drive/MyDrive/video/37rzWOQsNIw.mp4:\n",
            "Vietnamese bean pudding is called Jare. Stuffed pork and steamed is called Stuffed Pork and Steamed. The tofu sandwich is called Tofu and is served in a banana leaf. The rice is wrapped inside a banana Leaf and is called rice and rice.\n",
            "Accuracy: 73.08%\n",
            "Loss: 26.92%\n",
            "Hallucination Score: 29.17%\n",
            "----------------------------------------\n",
            "Processing video: /content/drive/MyDrive/video/_xMr-HKMfVA.mp4\n",
            "MoviePy - Writing audio in /content/drive/MyDrive/video/_xMr-HKMfVA.wav\n"
          ]
        },
        {
          "output_type": "stream",
          "name": "stderr",
          "text": []
        },
        {
          "output_type": "stream",
          "name": "stdout",
          "text": [
            "MoviePy - Done.\n",
            "Summary for /content/drive/MyDrive/video/_xMr-HKMfVA.mp4:\n",
            "summarize:  Matters of nature Have a seat Music Music Music. Music Music, Music and more music for you to listen to as you read this book. Music, music, music! Music,music, music. Music! Music! You can listen to this book all day.\n",
            "Accuracy: 73.19%\n",
            "Loss: 26.81%\n",
            "Hallucination Score: 69.23%\n",
            "----------------------------------------\n",
            "Processing video: /content/drive/MyDrive/video/98MoyGZKHXc.mp4\n",
            "MoviePy - Writing audio in /content/drive/MyDrive/video/98MoyGZKHXc.wav\n"
          ]
        },
        {
          "output_type": "stream",
          "name": "stderr",
          "text": []
        },
        {
          "output_type": "stream",
          "name": "stdout",
          "text": [
            "MoviePy - Done.\n",
            "Summary for /content/drive/MyDrive/video/98MoyGZKHXc.mp4:\n",
            "More than two thirds of cars now come with a tyre repair kit instead of a spare wheel. If you get a puncture, pull over and stop as soon as you find a safe place, preferably away from traffic. Apply the handbrake and switch your engine off and turn on your hazard lights if necessary. Seelent kits will only fill holes up to about four millimetres across.\n",
            "Accuracy: 92.94%\n",
            "Loss: 7.06%\n",
            "Hallucination Score: 0.00%\n",
            "----------------------------------------\n",
            "Processing video: /content/drive/MyDrive/video/3eYKfiOEJNs.mp4\n",
            "MoviePy - Writing audio in /content/drive/MyDrive/video/3eYKfiOEJNs.wav\n"
          ]
        },
        {
          "output_type": "stream",
          "name": "stderr",
          "text": []
        },
        {
          "output_type": "stream",
          "name": "stdout",
          "text": [
            "MoviePy - Done.\n",
            "Summary for /content/drive/MyDrive/video/3eYKfiOEJNs.mp4:\n",
            "At Sebastians in Recoleta, dogs big and small come in for a model makeover. Hugo grooms and styles around 25 dogs a day. There are hundreds of dog beauty parlors in the city. Here at Sebastians, the man to see is Hugo and there is no service that he won't do.\n",
            "Accuracy: 92.32%\n",
            "Loss: 7.68%\n",
            "Hallucination Score: 0.00%\n",
            "----------------------------------------\n",
            "Processing video: /content/drive/MyDrive/video/4wU_LUjG5Ic.mp4\n",
            "MoviePy - Writing audio in /content/drive/MyDrive/video/4wU_LUjG5Ic.wav\n"
          ]
        },
        {
          "output_type": "stream",
          "name": "stderr",
          "text": []
        },
        {
          "output_type": "stream",
          "name": "stdout",
          "text": [
            "MoviePy - Done.\n",
            "Summary for /content/drive/MyDrive/video/4wU_LUjG5Ic.mp4:\n",
            "Bike Friendly Cities is a European project that wants to get cities cycling. South Indonsea and Cambridge in the UK, Middelburg and the province of Zeeland in the Netherlands are all working together to promote cycling in their cities. In summer 2013, these cities held bike parades and invited everyone to come along.\n",
            "Accuracy: 90.02%\n",
            "Loss: 9.98%\n",
            "Hallucination Score: 4.88%\n",
            "----------------------------------------\n",
            "Processing video: /content/drive/MyDrive/video/AwmHb44_ouw.mp4\n",
            "MoviePy - Writing audio in /content/drive/MyDrive/video/AwmHb44_ouw.wav\n"
          ]
        },
        {
          "output_type": "stream",
          "name": "stderr",
          "text": []
        },
        {
          "output_type": "stream",
          "name": "stdout",
          "text": [
            "MoviePy - Done.\n",
            "Summary for /content/drive/MyDrive/video/AwmHb44_ouw.mp4:\n",
            "How to change trailer, ATV, lawn tractor, motorcycle, small vehicle tires with a screwdriver. There's three kinds of bead styles. Tubeless tire design like car tires have a partially locking system to bead to rim and they're more difficult to separate. You may need to squish the tire in a vise, press it in a tire machine.\n",
            "Accuracy: 90.50%\n",
            "Loss: 9.50%\n",
            "Hallucination Score: 2.22%\n",
            "----------------------------------------\n",
            "Processing video: /content/drive/MyDrive/video/akI8YFjEmUw.mp4\n",
            "MoviePy - Writing audio in /content/drive/MyDrive/video/akI8YFjEmUw.wav\n"
          ]
        },
        {
          "output_type": "stream",
          "name": "stderr",
          "text": []
        },
        {
          "output_type": "stream",
          "name": "stdout",
          "text": [
            "MoviePy - Done.\n",
            "Summary for /content/drive/MyDrive/video/akI8YFjEmUw.mp4:\n",
            "The 2012 electric vehicle and smart car exhibition was held on October 17th to display eco-friendly electric vehicles and related equipment. Manufacturers of electric vehicles, related industries including two-wheeled vehicles, parts and materials, charging systems participated in this exhibition. This is a business fair that is aimed at facilitating exchanges between professionals in the electric vehicle industry.\n",
            "Accuracy: 93.22%\n",
            "Loss: 6.78%\n",
            "Hallucination Score: 0.00%\n",
            "----------------------------------------\n",
            "Processing video: /content/drive/MyDrive/video/0tmA_C6XwfM.mp4\n",
            "MoviePy - Writing audio in /content/drive/MyDrive/video/0tmA_C6XwfM.wav\n"
          ]
        },
        {
          "output_type": "stream",
          "name": "stderr",
          "text": []
        },
        {
          "output_type": "stream",
          "name": "stdout",
          "text": [
            "MoviePy - Done.\n",
            "Summary for /content/drive/MyDrive/video/0tmA_C6XwfM.mp4:\n",
            "Gloria nail clippers and scissors remain very sharp. Other clippers or scissors blunt very quickly, and instead of cutting the nails, they can splinter or break them. Consult your vet or pet shop if you have any questions. Do you need more information? Do not hesitate. We are here to help.\n",
            "Accuracy: 91.19%\n",
            "Loss: 8.81%\n",
            "Hallucination Score: 0.00%\n",
            "----------------------------------------\n",
            "Processing video: /content/drive/MyDrive/video/E11zDS9XGzg.mp4\n",
            "MoviePy - Writing audio in /content/drive/MyDrive/video/E11zDS9XGzg.wav\n"
          ]
        },
        {
          "output_type": "stream",
          "name": "stderr",
          "text": []
        },
        {
          "output_type": "stream",
          "name": "stdout",
          "text": [
            "MoviePy - Done.\n",
            "Summary for /content/drive/MyDrive/video/E11zDS9XGzg.mp4:\n",
            "We are at a German Shabbat Club The dog show is going on. Australia has come here Especially to judge Which is judging dogs According to their agility, personality Their moves and all the stuff They did that This one She is the lady Don't even underpriced a trophy He is walking nice.\n",
            "Accuracy: 88.05%\n",
            "Loss: 11.95%\n",
            "Hallucination Score: 4.44%\n",
            "----------------------------------------\n",
            "Processing video: /content/drive/MyDrive/video/EE-bNr36nyA.mp4\n",
            "MoviePy - Writing audio in /content/drive/MyDrive/video/EE-bNr36nyA.wav\n"
          ]
        },
        {
          "output_type": "stream",
          "name": "stderr",
          "text": []
        },
        {
          "output_type": "stream",
          "name": "stdout",
          "text": [
            "MoviePy - Done.\n",
            "Summary for /content/drive/MyDrive/video/EE-bNr36nyA.mp4:\n",
            "Paper wasps are actually a beneficial insect. They're out collecting caterpillars off of your crops. When you get too close to them, they're indiscriminate stingers. If the wasps have built a nest in a location that could potentially be a threat to yourself or your family or your pets, it's a good idea to go ahead and remove it.\n",
            "Accuracy: 94.99%\n",
            "Loss: 5.01%\n",
            "Hallucination Score: 2.08%\n",
            "----------------------------------------\n",
            "Processing video: /content/drive/MyDrive/video/Bhxk-O1Y7Ho.mp4\n",
            "MoviePy - Writing audio in /content/drive/MyDrive/video/Bhxk-O1Y7Ho.wav\n"
          ]
        },
        {
          "output_type": "stream",
          "name": "stderr",
          "text": []
        },
        {
          "output_type": "stream",
          "name": "stdout",
          "text": [
            "MoviePy - Done.\n",
            "Summary for /content/drive/MyDrive/video/Bhxk-O1Y7Ho.mp4:\n",
            "Bobo: \"I'm going to give Bentley a bath and a trim because I don't like the way that he came out when I took him to the groomer\" \"Everything I read about using clippers and clipping dogs, the clippers just work best when they are clean. So I figured I'll just get this part out of the way\"\n",
            "Accuracy: 94.56%\n",
            "Loss: 5.44%\n",
            "Hallucination Score: 11.11%\n",
            "----------------------------------------\n",
            "Processing video: /content/drive/MyDrive/video/eQu1rNs0an0.mp4\n",
            "MoviePy - Writing audio in /content/drive/MyDrive/video/eQu1rNs0an0.wav\n"
          ]
        },
        {
          "output_type": "stream",
          "name": "stderr",
          "text": []
        },
        {
          "output_type": "stream",
          "name": "stdout",
          "text": [
            "MoviePy - Done.\n",
            "Summary for /content/drive/MyDrive/video/eQu1rNs0an0.mp4:\n",
            "How to stop on a fixed gear bike is the most frequently asked question from moms, pedestrians or other people who can't believe you're riding a bike with no brakes. The easiest way to slow down is to apply back pressure to your pedals. A skid stop is where you lock up your rear wheel, causing your bike to skid and slow down.\n",
            "Accuracy: 94.47%\n",
            "Loss: 5.53%\n",
            "Hallucination Score: 0.00%\n",
            "----------------------------------------\n",
            "Processing video: /content/drive/MyDrive/video/byxOvuiIJV0.mp4\n",
            "MoviePy - Writing audio in /content/drive/MyDrive/video/byxOvuiIJV0.wav\n"
          ]
        },
        {
          "output_type": "stream",
          "name": "stderr",
          "text": []
        },
        {
          "output_type": "stream",
          "name": "stdout",
          "text": [
            "MoviePy - Done.\n",
            "Summary for /content/drive/MyDrive/video/byxOvuiIJV0.mp4:\n",
            "summarize:  The Biggest Blockbuster Event of the Year. The Big biggest Blockbuster event of the year. The best Blockbuster films of all time. The most successful Blockbuster events of all-time. The biggest Blockbusters events of the decade. The greatest Blockbuster movies of the century.\n",
            "Accuracy: 81.40%\n",
            "Loss: 18.60%\n",
            "Hallucination Score: 76.19%\n",
            "----------------------------------------\n",
            "Processing video: /content/drive/MyDrive/video/EYqVtI9YWJA.mp4\n",
            "MoviePy - Writing audio in /content/drive/MyDrive/video/EYqVtI9YWJA.wav\n"
          ]
        },
        {
          "output_type": "stream",
          "name": "stderr",
          "text": []
        },
        {
          "output_type": "stream",
          "name": "stdout",
          "text": [
            "MoviePy - Done.\n",
            "Summary for /content/drive/MyDrive/video/EYqVtI9YWJA.mp4:\n",
            "Felipe Smadge and his brother have been riding since they were 10 or 11 years old. They say trials is one of the most fun sports you can do. They hope to bring the sport to new people through their TV shows. They also hope to raise awareness of the sport.\n",
            "Accuracy: 89.83%\n",
            "Loss: 10.17%\n",
            "Hallucination Score: 30.95%\n",
            "----------------------------------------\n",
            "Processing video: /content/drive/MyDrive/video/cjibtmSLxQ4.mp4\n",
            "MoviePy - Writing audio in /content/drive/MyDrive/video/cjibtmSLxQ4.wav\n"
          ]
        },
        {
          "output_type": "stream",
          "name": "stderr",
          "text": []
        },
        {
          "output_type": "stream",
          "name": "stdout",
          "text": [
            "MoviePy - Done.\n",
            "Summary for /content/drive/MyDrive/video/cjibtmSLxQ4.mp4:\n",
            "David Bell, 27, est un yamakasi de la première heure. Il en a fait une discipline à part entière, il l'a baptisé le parcours. Ça nécessite d'être en bonne condition physique, parce que si on n'a pas de bras, on tombe.\n",
            "Accuracy: 93.93%\n",
            "Loss: 6.07%\n",
            "Hallucination Score: 2.70%\n",
            "----------------------------------------\n",
            "Processing video: /content/drive/MyDrive/video/Hl-__g2gn_A.mp4\n",
            "MoviePy - Writing audio in /content/drive/MyDrive/video/Hl-__g2gn_A.wav\n"
          ]
        },
        {
          "output_type": "stream",
          "name": "stderr",
          "text": []
        },
        {
          "output_type": "stream",
          "name": "stdout",
          "text": [
            "MoviePy - Done.\n",
            "Summary for /content/drive/MyDrive/video/Hl-__g2gn_A.mp4:\n",
            "Chef Dianna Mayo makes a Rubin sandwich with corned beef, sauerkraut and pickles. She slathers one side with butter, flips it over, puts a little butter on the other side and booyah, it's going to be a hot, crispy, buttery, delicious sandwich.\n",
            "Accuracy: 88.72%\n",
            "Loss: 11.28%\n",
            "Hallucination Score: 24.32%\n",
            "----------------------------------------\n",
            "Processing video: /content/drive/MyDrive/video/J0nA4VgnoCo.mp4\n",
            "MoviePy - Writing audio in /content/drive/MyDrive/video/J0nA4VgnoCo.wav\n"
          ]
        },
        {
          "output_type": "stream",
          "name": "stderr",
          "text": []
        },
        {
          "output_type": "stream",
          "name": "stdout",
          "text": [
            "MoviePy - Done.\n",
            "Summary for /content/drive/MyDrive/video/J0nA4VgnoCo.mp4:\n",
            "Kate Middleton and her friend Rebecca are on their way to the beach when they get a call from Rebecca. Rebecca calls to say she has a flat tire and needs to get a jack from her car. Kate calls her friend to see if she can change the tire. They get talking about her car, which has $2,000 of damage.\n",
            "Accuracy: 86.99%\n",
            "Loss: 13.01%\n",
            "Hallucination Score: 21.95%\n",
            "----------------------------------------\n",
            "Processing video: /content/drive/MyDrive/video/i3wAGJaaktw.mp4\n",
            "MoviePy - Writing audio in /content/drive/MyDrive/video/i3wAGJaaktw.wav\n"
          ]
        },
        {
          "output_type": "stream",
          "name": "stderr",
          "text": []
        },
        {
          "output_type": "stream",
          "name": "stdout",
          "text": [
            "MoviePy - Done.\n",
            "Summary for /content/drive/MyDrive/video/i3wAGJaaktw.mp4:\n",
            "Rosie says Pet Joy has state-of-the-art equipment to groom dogs. She says they try to minimize any stress in the stress here. Rosie: We try to sell really good quality food, green, free. And there's, you know, we have some raw as well.\n",
            "Accuracy: 92.01%\n",
            "Loss: 7.99%\n",
            "Hallucination Score: 21.62%\n",
            "----------------------------------------\n",
            "Processing video: /content/drive/MyDrive/video/GsAD1KT1xo8.mp4\n",
            "MoviePy - Writing audio in /content/drive/MyDrive/video/GsAD1KT1xo8.wav\n"
          ]
        },
        {
          "output_type": "stream",
          "name": "stderr",
          "text": []
        },
        {
          "output_type": "stream",
          "name": "stdout",
          "text": [
            "MoviePy - Done.\n",
            "Summary for /content/drive/MyDrive/video/GsAD1KT1xo8.mp4:\n",
            "\"One more time We're gonna get up first We're never gonna run and hide\" \"Hold me in a circle So I can change it one more time\" \"I don't know where I'm going But I've been And it's never in the knowin' It's in the not givin' it And when the earth is slippin'\n",
            "Accuracy: 89.16%\n",
            "Loss: 10.84%\n",
            "Hallucination Score: 11.90%\n",
            "----------------------------------------\n",
            "Processing video: /content/drive/MyDrive/video/fWutDQy1nnY.mp4\n",
            "MoviePy - Writing audio in /content/drive/MyDrive/video/fWutDQy1nnY.wav\n"
          ]
        },
        {
          "output_type": "stream",
          "name": "stderr",
          "text": []
        },
        {
          "output_type": "stream",
          "name": "stdout",
          "text": [
            "MoviePy - Done.\n",
            "Summary for /content/drive/MyDrive/video/fWutDQy1nnY.mp4:\n",
            "Gong Yeh Fat Choi and Sir Paul go to Chinatown in Vancouver, British Columbia, for the Chinese New Year Parade. When I smile, you get a fruity. When Sir Paul goes to the pastry shop, he gets a little smile. I'm gonna try to bring out the other guy.\n",
            "Accuracy: 91.31%\n",
            "Loss: 8.69%\n",
            "Hallucination Score: 12.20%\n",
            "----------------------------------------\n",
            "Processing video: /content/drive/MyDrive/video/iVt07TCkFM0.mp4\n",
            "MoviePy - Writing audio in /content/drive/MyDrive/video/iVt07TCkFM0.wav\n"
          ]
        },
        {
          "output_type": "stream",
          "name": "stderr",
          "text": []
        },
        {
          "output_type": "stream",
          "name": "stdout",
          "text": [
            "MoviePy - Done.\n",
            "Summary for /content/drive/MyDrive/video/iVt07TCkFM0.mp4:\n",
            "Doing a wheelie is something we've all desired to do since our very first bike ride. It's a combination of shifting your body weight and the speed that you are pedaling. Practice this riding around an empty parking lot, but don't use your straps just in case you have to bail.\n",
            "Accuracy: 93.26%\n",
            "Loss: 6.74%\n",
            "Hallucination Score: 0.00%\n",
            "----------------------------------------\n",
            "Processing video: /content/drive/MyDrive/video/gzDbaEs1Rlg.mp4\n",
            "MoviePy - Writing audio in /content/drive/MyDrive/video/gzDbaEs1Rlg.wav\n"
          ]
        },
        {
          "output_type": "stream",
          "name": "stderr",
          "text": []
        },
        {
          "output_type": "stream",
          "name": "stdout",
          "text": [
            "MoviePy - Done.\n",
            "Summary for /content/drive/MyDrive/video/gzDbaEs1Rlg.mp4:\n",
            "Having the kit in your vehicle increases space and reduces weight. It works by distributing a sealant around the inside of the tyre. This seals punctures, allowing the tyre to be re-inflated. The kit works on punctures no more than 4mm in diameter. If you can't use the puncture repair kit, you will need to arrange vehicle recovery.\n",
            "Accuracy: 92.71%\n",
            "Loss: 7.29%\n",
            "Hallucination Score: 0.00%\n",
            "----------------------------------------\n",
            "Processing video: /content/drive/MyDrive/video/HT5vyqe0Xaw.mp4\n",
            "MoviePy - Writing audio in /content/drive/MyDrive/video/HT5vyqe0Xaw.wav\n"
          ]
        },
        {
          "output_type": "stream",
          "name": "stderr",
          "text": []
        },
        {
          "output_type": "stream",
          "name": "stdout",
          "text": [
            "MoviePy - Done.\n",
            "Summary for /content/drive/MyDrive/video/HT5vyqe0Xaw.mp4:\n",
            "A table just got delivered, but and this is where the story begins. A truck had to obviously deliver something as large as that and the truck got stuck. As you can see the truck ran off the road nearly tipped over went down the gully. And this is all because my brother wanted a table. Put so many people out.\n",
            "Accuracy: 94.28%\n",
            "Loss: 5.72%\n",
            "Hallucination Score: 0.00%\n",
            "----------------------------------------\n",
            "Processing video: /content/drive/MyDrive/video/jcoYJXDG9sw.mp4\n",
            "MoviePy - Writing audio in /content/drive/MyDrive/video/jcoYJXDG9sw.wav\n"
          ]
        },
        {
          "output_type": "stream",
          "name": "stderr",
          "text": []
        },
        {
          "output_type": "stream",
          "name": "stdout",
          "text": [
            "MoviePy - Done.\n",
            "Summary for /content/drive/MyDrive/video/jcoYJXDG9sw.mp4:\n",
            "5 year-old Doxon weighed a whopping 77 pounds that's twice the normal size. Obi's new owner or forced apparent he's going on a strict diet nor a banana. According to the Association for pet obesity and prevention 53% of adult dogs are overweight.\n",
            "Accuracy: 86.91%\n",
            "Loss: 13.09%\n",
            "Hallucination Score: 7.50%\n",
            "----------------------------------------\n",
            "Processing video: /content/drive/MyDrive/video/NyBmCxDoHJU.mp4\n",
            "MoviePy - Writing audio in /content/drive/MyDrive/video/NyBmCxDoHJU.wav\n"
          ]
        },
        {
          "output_type": "stream",
          "name": "stderr",
          "text": []
        },
        {
          "output_type": "stream",
          "name": "stdout",
          "text": [
            "MoviePy - Done.\n",
            "Summary for /content/drive/MyDrive/video/NyBmCxDoHJU.mp4:\n",
            "\"I've always been a coward. And I don't know what's good for me. Where'd you ride go? It's coming at me through the tree. Help me, someone help me please. Take your shoes off and I'll throw them in the lake\"\n",
            "Accuracy: 94.76%\n",
            "Loss: 5.24%\n",
            "Hallucination Score: 5.41%\n",
            "----------------------------------------\n",
            "Processing video: /content/drive/MyDrive/video/oDXZc0tZe04.mp4\n",
            "MoviePy - Writing audio in /content/drive/MyDrive/video/oDXZc0tZe04.wav\n"
          ]
        },
        {
          "output_type": "stream",
          "name": "stderr",
          "text": []
        },
        {
          "output_type": "stream",
          "name": "stdout",
          "text": [
            "MoviePy - Done.\n",
            "Summary for /content/drive/MyDrive/video/oDXZc0tZe04.mp4:\n",
            "summarize:  Unova Lunca Ne decomp qualidade Munonia. Unova. Lunca. Ne decomp Qualidade. Munonia: Unova, Lunca, Munonia, Unova-Munonia. Mun.onia: Munonia-Lunca.\n",
            "Accuracy: 9.84%\n",
            "Loss: 90.16%\n",
            "Hallucination Score: 70.59%\n",
            "----------------------------------------\n",
            "Processing video: /content/drive/MyDrive/video/qqR6AEXwxoQ.mp4\n",
            "MoviePy - Writing audio in /content/drive/MyDrive/video/qqR6AEXwxoQ.wav\n"
          ]
        },
        {
          "output_type": "stream",
          "name": "stderr",
          "text": []
        },
        {
          "output_type": "stream",
          "name": "stdout",
          "text": [
            "MoviePy - Done.\n",
            "Summary for /content/drive/MyDrive/video/qqR6AEXwxoQ.mp4:\n",
            "One of the things that most riders have difficulty learning and everybody wants to be able to do is to whip the bike. The key is In the approach to the jump I'm using the sidewalls of your tires to kind of bite as you take off the face of the jump. It'll set your your bike back up straight as long as you do it, right?\n",
            "Accuracy: 96.05%\n",
            "Loss: 3.95%\n",
            "Hallucination Score: 4.35%\n",
            "----------------------------------------\n",
            "Processing video: /content/drive/MyDrive/video/JgHubY5Vw3Y.mp4\n",
            "MoviePy - Writing audio in /content/drive/MyDrive/video/JgHubY5Vw3Y.wav\n"
          ]
        },
        {
          "output_type": "stream",
          "name": "stderr",
          "text": []
        },
        {
          "output_type": "stream",
          "name": "stdout",
          "text": [
            "MoviePy - Done.\n",
            "Summary for /content/drive/MyDrive/video/JgHubY5Vw3Y.mp4:\n",
            "Get rid of any quick release levers on your bike. If you have a daily commuter that's locked up outside a lot, you might want to consider some camo for your ride. Don't ever leave your bike unlocked. Make sure to lock it to a solid object that can't be broken or moved.\n",
            "Accuracy: 94.05%\n",
            "Loss: 5.95%\n",
            "Hallucination Score: 0.00%\n",
            "----------------------------------------\n",
            "Processing video: /content/drive/MyDrive/video/kLxoNp-UchI.mp4\n",
            "MoviePy - Writing audio in /content/drive/MyDrive/video/kLxoNp-UchI.wav\n"
          ]
        },
        {
          "output_type": "stream",
          "name": "stderr",
          "text": []
        },
        {
          "output_type": "stream",
          "name": "stdout",
          "text": [
            "MoviePy - Done.\n",
            "Summary for /content/drive/MyDrive/video/kLxoNp-UchI.mp4:\n",
            "Being a dog is a little annoying. Food you don't like and people always trying to hug you. You can always ignore those people and hide for as long as you can. When the door is open just go out and take a moment for yourself. Smell around, explore the ground, clean up your mess and just chill. Enjoy your kingdom.\n",
            "Accuracy: 97.88%\n",
            "Loss: 2.12%\n",
            "Hallucination Score: 0.00%\n",
            "----------------------------------------\n",
            "Processing video: /content/drive/MyDrive/video/LRw_obCPUt0.mp4\n",
            "MoviePy - Writing audio in /content/drive/MyDrive/video/LRw_obCPUt0.wav\n"
          ]
        },
        {
          "output_type": "stream",
          "name": "stderr",
          "text": []
        },
        {
          "output_type": "stream",
          "name": "stdout",
          "text": [
            "MoviePy - Done.\n",
            "Summary for /content/drive/MyDrive/video/LRw_obCPUt0.mp4:\n",
            "James McDuffie is the chef at Joseph Leonard in the West Village. He says fried chicken is one of those things like a burger that is in its simplicity. The chicken is brined, then marinated in Tabasco and buttermilk, then dredged in seasoned flour.\n",
            "Accuracy: 87.10%\n",
            "Loss: 12.90%\n",
            "Hallucination Score: 11.76%\n",
            "----------------------------------------\n",
            "Processing video: /content/drive/MyDrive/video/PJrm840pAUI.mp4\n",
            "MoviePy - Writing audio in /content/drive/MyDrive/video/PJrm840pAUI.wav\n"
          ]
        },
        {
          "output_type": "stream",
          "name": "stderr",
          "text": []
        },
        {
          "output_type": "stream",
          "name": "stdout",
          "text": [
            "MoviePy - Done.\n",
            "Summary for /content/drive/MyDrive/video/PJrm840pAUI.mp4:\n",
            "\"This time I'll reach you far away If you run, I'll be a red gate with you We're growing older, older together\" \"I have read the words on your face They told me things I shouldn't know But it's where I wanna go\"\n",
            "Accuracy: 93.10%\n",
            "Loss: 6.90%\n",
            "Hallucination Score: 10.26%\n",
            "----------------------------------------\n",
            "Processing video: /content/drive/MyDrive/video/JKpqYvAdIsw.mp4\n",
            "MoviePy - Writing audio in /content/drive/MyDrive/video/JKpqYvAdIsw.wav\n"
          ]
        },
        {
          "output_type": "stream",
          "name": "stderr",
          "text": []
        },
        {
          "output_type": "stream",
          "name": "stdout",
          "text": [
            "MoviePy - Done.\n",
            "Summary for /content/drive/MyDrive/video/JKpqYvAdIsw.mp4:\n",
            "summarize:  Welcome to the biggest blockbuster event of the year. ICC World T20 2014. Are you ready to roll? In-Hotter Action 1616 Bigot Presentations How exciting Instead of you I'm waiting Tension, tension Stingy, ding-ding, ding -ding, Ding-ding.\n",
            "Accuracy: 52.70%\n",
            "Loss: 47.30%\n",
            "Hallucination Score: 11.76%\n",
            "----------------------------------------\n",
            "Processing video: /content/drive/MyDrive/video/sTEELN-vY30.mp4\n",
            "MoviePy - Writing audio in /content/drive/MyDrive/video/sTEELN-vY30.wav\n"
          ]
        },
        {
          "output_type": "stream",
          "name": "stderr",
          "text": []
        },
        {
          "output_type": "stream",
          "name": "stdout",
          "text": [
            "MoviePy - Done.\n",
            "Summary for /content/drive/MyDrive/video/sTEELN-vY30.mp4:\n",
            "A train smashed into a car in Douglasville, Georgia. The driver was able to get out of the car before the collision. Neighbors say cars get stuck on the tracks all too often. Norfolk Southern repaved the crossing but left a considerable drop off instead of a tapering slope.\n",
            "Accuracy: 91.34%\n",
            "Loss: 8.66%\n",
            "Hallucination Score: 5.13%\n",
            "----------------------------------------\n",
            "Processing video: /content/drive/MyDrive/video/vdmoEJ5YbrQ.mp4\n",
            "MoviePy - Writing audio in /content/drive/MyDrive/video/vdmoEJ5YbrQ.wav\n"
          ]
        },
        {
          "output_type": "stream",
          "name": "stderr",
          "text": []
        },
        {
          "output_type": "stream",
          "name": "stdout",
          "text": [
            "MoviePy - Done.\n",
            "Summary for /content/drive/MyDrive/video/vdmoEJ5YbrQ.mp4:\n",
            "\"We need 50 more kids like you. We need to get out. We're a long way back. Long, long, long. way back\" \"We'll have to leave it and hope the Indians don't destroy it\" \"Wolf will show us the way. Look down the mouse on me\"\n",
            "Accuracy: 90.95%\n",
            "Loss: 9.05%\n",
            "Hallucination Score: 17.50%\n",
            "----------------------------------------\n",
            "Processing video: /content/drive/MyDrive/video/WG0MBPpPC6I.mp4\n",
            "MoviePy - Writing audio in /content/drive/MyDrive/video/WG0MBPpPC6I.wav\n"
          ]
        },
        {
          "output_type": "stream",
          "name": "stderr",
          "text": []
        },
        {
          "output_type": "stream",
          "name": "stdout",
          "text": [
            "MoviePy - Done.\n",
            "Summary for /content/drive/MyDrive/video/WG0MBPpPC6I.mp4:\n",
            "Chef Diane D'Ameo makes a chicken torta using black beans, avocado and mozzarella. She also uses a special bootleg tip breadcrumb with cotija cheese and cilantro. The torta is served on a plate with avocado, chipotle peppers and queso blanco.\n",
            "Accuracy: 80.28%\n",
            "Loss: 19.72%\n",
            "Hallucination Score: 20.59%\n",
            "----------------------------------------\n",
            "Processing video: /content/drive/MyDrive/video/WxtbjNsCQ8A.mp4\n",
            "MoviePy - Writing audio in /content/drive/MyDrive/video/WxtbjNsCQ8A.wav\n"
          ]
        },
        {
          "output_type": "stream",
          "name": "stderr",
          "text": []
        },
        {
          "output_type": "stream",
          "name": "stdout",
          "text": [
            "MoviePy - Done.\n",
            "Summary for /content/drive/MyDrive/video/WxtbjNsCQ8A.mp4:\n",
            "Bees can fill one of these honey supers a week. If this was cold weather, you wouldn't do this. There'd be too many bees in the hive. They orient to the sun and the magnetism of the earth. They all orient it to this one place. That's their home base.\n",
            "Accuracy: 93.50%\n",
            "Loss: 6.50%\n",
            "Hallucination Score: 0.00%\n",
            "----------------------------------------\n",
            "Processing video: /content/drive/MyDrive/video/RBCABdttQmI.mp4\n",
            "MoviePy - Writing audio in /content/drive/MyDrive/video/RBCABdttQmI.wav\n"
          ]
        },
        {
          "output_type": "stream",
          "name": "stderr",
          "text": []
        },
        {
          "output_type": "stream",
          "name": "stdout",
          "text": [
            "MoviePy - Done.\n",
            "Summary for /content/drive/MyDrive/video/RBCABdttQmI.mp4:\n",
            "\"It definitely feels like an induction ceremony of sorts. Holding the chain and doing the walk with our sisters and our older sisters,\" Sheen says. \"It's kind of like seeing all of your ancestors march before you and what they've done\" 1500 feet is the total length of the chain that they'll carry side by side.\n",
            "Accuracy: 90.60%\n",
            "Loss: 9.40%\n",
            "Hallucination Score: 11.11%\n",
            "----------------------------------------\n",
            "Processing video: /content/drive/MyDrive/video/uGu_10sucQo.mp4\n",
            "MoviePy - Writing audio in /content/drive/MyDrive/video/uGu_10sucQo.wav\n"
          ]
        },
        {
          "output_type": "stream",
          "name": "stderr",
          "text": []
        },
        {
          "output_type": "stream",
          "name": "stdout",
          "text": [
            "MoviePy - Done.\n",
            "Summary for /content/drive/MyDrive/video/uGu_10sucQo.mp4:\n",
            "summarize:    “I’ll be in touch with you soon.”  “What’s next?” you ask. “I want to know where you’re going.’ ““What do you want to do?’” “Tell me what you think.“” I’d like to hear from you. What do you need to do to help me out?“.\n",
            "Accuracy: 5.25%\n",
            "Loss: 94.75%\n",
            "Hallucination Score: 100.00%\n",
            "----------------------------------------\n",
            "Processing video: /content/drive/MyDrive/video/XkqCExn6_Us.mp4\n",
            "MoviePy - Writing audio in /content/drive/MyDrive/video/XkqCExn6_Us.wav\n"
          ]
        },
        {
          "output_type": "stream",
          "name": "stderr",
          "text": []
        },
        {
          "output_type": "stream",
          "name": "stdout",
          "text": [
            "MoviePy - Done.\n",
            "Summary for /content/drive/MyDrive/video/XkqCExn6_Us.mp4:\n",
            "summarize:  You. You are the most important person in the world. You have the power to make a difference in the lives of others. You can do anything you put your mind to it. You. Are. The Most Important. Person in the World.\n",
            "Accuracy: 21.73%\n",
            "Loss: 78.27%\n",
            "Hallucination Score: 96.43%\n",
            "----------------------------------------\n",
            "Processing video: /content/drive/MyDrive/video/VuWGsYPqAX8.mp4\n",
            "MoviePy - Writing audio in /content/drive/MyDrive/video/VuWGsYPqAX8.wav\n"
          ]
        },
        {
          "output_type": "stream",
          "name": "stderr",
          "text": []
        },
        {
          "output_type": "stream",
          "name": "stdout",
          "text": [
            "MoviePy - Done.\n",
            "Summary for /content/drive/MyDrive/video/VuWGsYPqAX8.mp4:\n",
            "summarize:  I'm concrete, the area we're working in. Siphoning in your upper echelon. Better go up here. So now I can go forward. Get in position! nickname no No! Ma, ge, si, sa, meni, u, kuen, sa.\n",
            "Accuracy: 88.12%\n",
            "Loss: 11.88%\n",
            "Hallucination Score: 5.71%\n",
            "----------------------------------------\n",
            "Processing video: /content/drive/MyDrive/video/Se3oxnaPsz0.mp4\n",
            "MoviePy - Writing audio in /content/drive/MyDrive/video/Se3oxnaPsz0.wav\n"
          ]
        },
        {
          "output_type": "stream",
          "name": "stderr",
          "text": []
        },
        {
          "output_type": "stream",
          "name": "stdout",
          "text": [
            "MoviePy - Done.\n",
            "Summary for /content/drive/MyDrive/video/Se3oxnaPsz0.mp4:\n",
            "Kaila Waili is in Bisbee tonight with people that witnessed this terrible incident. The one thousand pound boar did not survive. Another pregnant 800 pound sow went into a coma, lost all her babies and is now recovering. Experts say if you do happen to see such a hive on your property, do not try to eradicate these bees yourself.\n",
            "Accuracy: 90.98%\n",
            "Loss: 9.02%\n",
            "Hallucination Score: 0.00%\n",
            "----------------------------------------\n",
            "Processing video: /content/drive/MyDrive/video/XzYM3PfTM4w.mp4\n",
            "MoviePy - Writing audio in /content/drive/MyDrive/video/XzYM3PfTM4w.wav\n"
          ]
        },
        {
          "output_type": "stream",
          "name": "stderr",
          "text": []
        },
        {
          "output_type": "stream",
          "name": "stdout",
          "text": [
            "MoviePy - Done.\n",
            "Summary for /content/drive/MyDrive/video/XzYM3PfTM4w.mp4:\n",
            "GMC recommends rotating your tires every time you change your oil, or 7,500 miles. Your certified service experts will use a tread depth measurement tool to see if your tires need replacing. New tires generally grip the road better than tires that have some miles on them.\n",
            "Accuracy: 89.65%\n",
            "Loss: 10.35%\n",
            "Hallucination Score: 0.00%\n",
            "----------------------------------------\n",
            "Processing video: /content/drive/MyDrive/video/z_6gVvQb2d0.mp4\n",
            "MoviePy - Writing audio in /content/drive/MyDrive/video/z_6gVvQb2d0.wav\n"
          ]
        },
        {
          "output_type": "stream",
          "name": "stderr",
          "text": []
        },
        {
          "output_type": "stream",
          "name": "stdout",
          "text": [
            "MoviePy - Done.\n",
            "Summary for /content/drive/MyDrive/video/z_6gVvQb2d0.mp4:\n",
            "\"I'm a kicker. Do you want to get in front of me? To me? I'm alright. Are you serious? Better ride faster than that,\" he says. \"That was so close! And all of them. Look at all their people. Yeah, a lot of them\"\n",
            "Accuracy: 80.40%\n",
            "Loss: 19.60%\n",
            "Hallucination Score: 16.22%\n",
            "----------------------------------------\n",
            "Processing video: /content/drive/MyDrive/video/xmEERLqJ2kU.mp4\n",
            "MoviePy - Writing audio in /content/drive/MyDrive/video/xmEERLqJ2kU.wav\n"
          ]
        },
        {
          "output_type": "stream",
          "name": "stderr",
          "text": []
        },
        {
          "output_type": "stream",
          "name": "stdout",
          "text": [
            "MoviePy - Done.\n",
            "Summary for /content/drive/MyDrive/video/xmEERLqJ2kU.mp4:\n",
            "\"We all go through adversity. Be it something major that happens to your family or to you or something like that\" \"Don't get caught up in the play that just happened. Play the next play\" \"Keep playing, keep hammering, keep getting after it\" \"Let's keep marching forward\"\n",
            "Accuracy: 89.72%\n",
            "Loss: 10.28%\n",
            "Hallucination Score: 20.51%\n",
            "----------------------------------------\n",
            "Processing video: /content/drive/MyDrive/video/Yi4Ij2NM7U4.mp4\n",
            "MoviePy - Writing audio in /content/drive/MyDrive/video/Yi4Ij2NM7U4.wav\n"
          ]
        },
        {
          "output_type": "stream",
          "name": "stderr",
          "text": []
        },
        {
          "output_type": "stream",
          "name": "stdout",
          "text": [
            "MoviePy - Done.\n",
            "Summary for /content/drive/MyDrive/video/Yi4Ij2NM7U4.mp4:\n",
            "The first episode of Warman's Meals features Josh Peach and Tarn Ferguson. The pair make a spicy sausage sandwich using ketchup, onions and peppers. Peach: \"I was thinking of myself the other day. ... Obviously, myself is being stubborn or Tarnerguson\"\n",
            "Accuracy: 85.79%\n",
            "Loss: 14.21%\n",
            "Hallucination Score: 27.78%\n",
            "----------------------------------------\n",
            "Processing video: /content/drive/MyDrive/video/xxdtq8mxegs.mp4\n",
            "MoviePy - Writing audio in /content/drive/MyDrive/video/xxdtq8mxegs.wav\n"
          ]
        },
        {
          "output_type": "stream",
          "name": "stderr",
          "text": []
        },
        {
          "output_type": "stream",
          "name": "stdout",
          "text": [
            "MoviePy - Done.\n",
            "Summary for /content/drive/MyDrive/video/xxdtq8mxegs.mp4:\n",
            "Dogs develop dirt and debris and discharge in their ears and it has to be taken out. We use solutions like the ear cleansing solution to help break up debris and dirt. The cleaning solution helps kill bacteria and yeast and can be used afterwards for regular cleaning. If there are multiple pets in the house, it would be a good idea to have multiple bottles.\n",
            "Accuracy: 93.53%\n",
            "Loss: 6.47%\n",
            "Hallucination Score: 4.00%\n",
            "----------------------------------------\n",
            "Processing video: /content/drive/MyDrive/video/xwqBXPGE9pQ.mp4\n",
            "MoviePy - Writing audio in /content/drive/MyDrive/video/xwqBXPGE9pQ.wav\n"
          ]
        },
        {
          "output_type": "stream",
          "name": "stderr",
          "text": []
        },
        {
          "output_type": "stream",
          "name": "stdout",
          "text": [
            "MoviePy - Done.\n",
            "Summary for /content/drive/MyDrive/video/xwqBXPGE9pQ.mp4:\n",
            "We're taking smartphone, spaceship, technology on a motorcycle platform with the safety of a car. It self-balances and really increases your safety and your range and the excitement of riding a motorcycle. 200 miles per charge, it's a two-wheel drive, a wheel hub motor, electric vehicle. The prototype that we have now uses two I7s.\n",
            "Accuracy: 93.44%\n",
            "Loss: 6.56%\n",
            "Hallucination Score: 0.00%\n",
            "----------------------------------------\n"
          ]
        }
      ]
    }
  ]
}