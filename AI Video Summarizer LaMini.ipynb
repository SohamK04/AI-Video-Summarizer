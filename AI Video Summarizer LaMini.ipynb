{
  "nbformat": 4,
  "nbformat_minor": 0,
  "metadata": {
    "colab": {
      "provenance": [],
      "gpuType": "T4",
      "mount_file_id": "1EJHQ-1PbmBTOWfQtqSAZBj9gxmxfXK-o",
      "authorship_tag": "ABX9TyMSjpQZj0LKxP1YtxNqh+Rg",
      "include_colab_link": true
    },
    "kernelspec": {
      "name": "python3",
      "display_name": "Python 3"
    },
    "language_info": {
      "name": "python"
    },
    "accelerator": "GPU"
  },
  "cells": [
    {
      "cell_type": "markdown",
      "metadata": {
        "id": "view-in-github",
        "colab_type": "text"
      },
      "source": [
        "<a href=\"https://colab.research.google.com/github/Samagra2/AI-Video-summarizer/blob/main/Ai_video_summarizer.ipynb\" target=\"_parent\"><img src=\"https://colab.research.google.com/assets/colab-badge.svg\" alt=\"Open In Colab\"/></a>"
      ]
    },
    {
      "cell_type": "code",
      "execution_count": 3,
      "metadata": {
        "colab": {
          "base_uri": "https://localhost:8080/"
        },
        "id": "hzcfNAdRe_96",
        "outputId": "aec6eaf9-5bfc-4eab-9f41-174496083624"
      },
      "outputs": [
        {
          "output_type": "stream",
          "name": "stdout",
          "text": [
            "\u001b[33mWARNING: Skipping whisper as it is not installed.\u001b[0m\u001b[33m\n",
            "\u001b[0mRequirement already satisfied: openai-whisper in /usr/local/lib/python3.11/dist-packages (20240930)\n",
            "Requirement already satisfied: moviepy in /usr/local/lib/python3.11/dist-packages (1.0.3)\n",
            "Requirement already satisfied: transformers in /usr/local/lib/python3.11/dist-packages (4.48.3)\n",
            "Requirement already satisfied: numba in /usr/local/lib/python3.11/dist-packages (from openai-whisper) (0.61.0)\n",
            "Requirement already satisfied: numpy in /usr/local/lib/python3.11/dist-packages (from openai-whisper) (1.26.4)\n",
            "Requirement already satisfied: torch in /usr/local/lib/python3.11/dist-packages (from openai-whisper) (2.5.1+cu124)\n",
            "Requirement already satisfied: tqdm in /usr/local/lib/python3.11/dist-packages (from openai-whisper) (4.67.1)\n",
            "Requirement already satisfied: more-itertools in /usr/local/lib/python3.11/dist-packages (from openai-whisper) (10.6.0)\n",
            "Requirement already satisfied: tiktoken in /usr/local/lib/python3.11/dist-packages (from openai-whisper) (0.9.0)\n",
            "Requirement already satisfied: triton>=2.0.0 in /usr/local/lib/python3.11/dist-packages (from openai-whisper) (3.1.0)\n",
            "Requirement already satisfied: decorator<5.0,>=4.0.2 in /usr/local/lib/python3.11/dist-packages (from moviepy) (4.4.2)\n",
            "Requirement already satisfied: imageio<3.0,>=2.5 in /usr/local/lib/python3.11/dist-packages (from moviepy) (2.37.0)\n",
            "Requirement already satisfied: imageio_ffmpeg>=0.2.0 in /usr/local/lib/python3.11/dist-packages (from moviepy) (0.6.0)\n",
            "Requirement already satisfied: requests<3.0,>=2.8.1 in /usr/local/lib/python3.11/dist-packages (from moviepy) (2.32.3)\n",
            "Requirement already satisfied: proglog<=1.0.0 in /usr/local/lib/python3.11/dist-packages (from moviepy) (0.1.10)\n",
            "Requirement already satisfied: filelock in /usr/local/lib/python3.11/dist-packages (from transformers) (3.17.0)\n",
            "Requirement already satisfied: huggingface-hub<1.0,>=0.24.0 in /usr/local/lib/python3.11/dist-packages (from transformers) (0.28.1)\n",
            "Requirement already satisfied: packaging>=20.0 in /usr/local/lib/python3.11/dist-packages (from transformers) (24.2)\n",
            "Requirement already satisfied: pyyaml>=5.1 in /usr/local/lib/python3.11/dist-packages (from transformers) (6.0.2)\n",
            "Requirement already satisfied: regex!=2019.12.17 in /usr/local/lib/python3.11/dist-packages (from transformers) (2024.11.6)\n",
            "Requirement already satisfied: tokenizers<0.22,>=0.21 in /usr/local/lib/python3.11/dist-packages (from transformers) (0.21.0)\n",
            "Requirement already satisfied: safetensors>=0.4.1 in /usr/local/lib/python3.11/dist-packages (from transformers) (0.5.2)\n",
            "Requirement already satisfied: fsspec>=2023.5.0 in /usr/local/lib/python3.11/dist-packages (from huggingface-hub<1.0,>=0.24.0->transformers) (2024.10.0)\n",
            "Requirement already satisfied: typing-extensions>=3.7.4.3 in /usr/local/lib/python3.11/dist-packages (from huggingface-hub<1.0,>=0.24.0->transformers) (4.12.2)\n",
            "Requirement already satisfied: pillow>=8.3.2 in /usr/local/lib/python3.11/dist-packages (from imageio<3.0,>=2.5->moviepy) (11.1.0)\n",
            "Requirement already satisfied: charset-normalizer<4,>=2 in /usr/local/lib/python3.11/dist-packages (from requests<3.0,>=2.8.1->moviepy) (3.4.1)\n",
            "Requirement already satisfied: idna<4,>=2.5 in /usr/local/lib/python3.11/dist-packages (from requests<3.0,>=2.8.1->moviepy) (3.10)\n",
            "Requirement already satisfied: urllib3<3,>=1.21.1 in /usr/local/lib/python3.11/dist-packages (from requests<3.0,>=2.8.1->moviepy) (2.3.0)\n",
            "Requirement already satisfied: certifi>=2017.4.17 in /usr/local/lib/python3.11/dist-packages (from requests<3.0,>=2.8.1->moviepy) (2025.1.31)\n",
            "Requirement already satisfied: llvmlite<0.45,>=0.44.0dev0 in /usr/local/lib/python3.11/dist-packages (from numba->openai-whisper) (0.44.0)\n",
            "Requirement already satisfied: networkx in /usr/local/lib/python3.11/dist-packages (from torch->openai-whisper) (3.4.2)\n",
            "Requirement already satisfied: jinja2 in /usr/local/lib/python3.11/dist-packages (from torch->openai-whisper) (3.1.5)\n",
            "Requirement already satisfied: nvidia-cuda-nvrtc-cu12==12.4.127 in /usr/local/lib/python3.11/dist-packages (from torch->openai-whisper) (12.4.127)\n",
            "Requirement already satisfied: nvidia-cuda-runtime-cu12==12.4.127 in /usr/local/lib/python3.11/dist-packages (from torch->openai-whisper) (12.4.127)\n",
            "Requirement already satisfied: nvidia-cuda-cupti-cu12==12.4.127 in /usr/local/lib/python3.11/dist-packages (from torch->openai-whisper) (12.4.127)\n",
            "Requirement already satisfied: nvidia-cudnn-cu12==9.1.0.70 in /usr/local/lib/python3.11/dist-packages (from torch->openai-whisper) (9.1.0.70)\n",
            "Requirement already satisfied: nvidia-cublas-cu12==12.4.5.8 in /usr/local/lib/python3.11/dist-packages (from torch->openai-whisper) (12.4.5.8)\n",
            "Requirement already satisfied: nvidia-cufft-cu12==11.2.1.3 in /usr/local/lib/python3.11/dist-packages (from torch->openai-whisper) (11.2.1.3)\n",
            "Requirement already satisfied: nvidia-curand-cu12==10.3.5.147 in /usr/local/lib/python3.11/dist-packages (from torch->openai-whisper) (10.3.5.147)\n",
            "Requirement already satisfied: nvidia-cusolver-cu12==11.6.1.9 in /usr/local/lib/python3.11/dist-packages (from torch->openai-whisper) (11.6.1.9)\n",
            "Requirement already satisfied: nvidia-cusparse-cu12==12.3.1.170 in /usr/local/lib/python3.11/dist-packages (from torch->openai-whisper) (12.3.1.170)\n",
            "Requirement already satisfied: nvidia-nccl-cu12==2.21.5 in /usr/local/lib/python3.11/dist-packages (from torch->openai-whisper) (2.21.5)\n",
            "Requirement already satisfied: nvidia-nvtx-cu12==12.4.127 in /usr/local/lib/python3.11/dist-packages (from torch->openai-whisper) (12.4.127)\n",
            "Requirement already satisfied: nvidia-nvjitlink-cu12==12.4.127 in /usr/local/lib/python3.11/dist-packages (from torch->openai-whisper) (12.4.127)\n",
            "Requirement already satisfied: sympy==1.13.1 in /usr/local/lib/python3.11/dist-packages (from torch->openai-whisper) (1.13.1)\n",
            "Requirement already satisfied: mpmath<1.4,>=1.1.0 in /usr/local/lib/python3.11/dist-packages (from sympy==1.13.1->torch->openai-whisper) (1.3.0)\n",
            "Requirement already satisfied: MarkupSafe>=2.0 in /usr/local/lib/python3.11/dist-packages (from jinja2->torch->openai-whisper) (3.0.2)\n"
          ]
        },
        {
          "output_type": "stream",
          "name": "stderr",
          "text": [
            "WARNING:py.warnings:/usr/local/lib/python3.11/dist-packages/whisper/__init__.py:150: FutureWarning: You are using `torch.load` with `weights_only=False` (the current default value), which uses the default pickle module implicitly. It is possible to construct malicious pickle data which will execute arbitrary code during unpickling (See https://github.com/pytorch/pytorch/blob/main/SECURITY.md#untrusted-models for more details). In a future release, the default value for `weights_only` will be flipped to `True`. This limits the functions that could be executed during unpickling. Arbitrary objects will no longer be allowed to be loaded via this mode unless they are explicitly allowlisted by the user via `torch.serialization.add_safe_globals`. We recommend you start setting `weights_only=True` for any use case where you don't have full control of the loaded file. Please open an issue on GitHub for any issues related to this experimental feature.\n",
            "  checkpoint = torch.load(fp, map_location=device)\n",
            "\n"
          ]
        },
        {
          "output_type": "stream",
          "name": "stdout",
          "text": [
            "Processing video: /content/drive/MyDrive/Final videos/-esJrBWj2d8.mp4\n",
            "MoviePy - Writing audio in /content/drive/MyDrive/Final videos/-esJrBWj2d8.wav\n"
          ]
        },
        {
          "output_type": "stream",
          "name": "stderr",
          "text": []
        },
        {
          "output_type": "stream",
          "name": "stdout",
          "text": [
            "MoviePy - Done.\n",
            "Summary for /content/drive/MyDrive/Final videos/-esJrBWj2d8.mp4:\n",
            "Yes.\n",
            "Model Size: 52.39%\n",
            "Output Quality: 70.23%\n",
            "Computational Efficiency: 100.00%\n",
            "----------------------------------------\n",
            "Processing video: /content/drive/MyDrive/Final videos/3eYKfiOEJNs.mp4\n",
            "MoviePy - Writing audio in /content/drive/MyDrive/Final videos/3eYKfiOEJNs.wav\n"
          ]
        },
        {
          "output_type": "stream",
          "name": "stderr",
          "text": []
        },
        {
          "output_type": "stream",
          "name": "stdout",
          "text": [
            "MoviePy - Done.\n",
            "Summary for /content/drive/MyDrive/Final videos/3eYKfiOEJNs.mp4:\n",
            "Yes.\n",
            "Model Size: 52.00%\n",
            "Output Quality: 70.27%\n",
            "Computational Efficiency: 100.00%\n",
            "----------------------------------------\n",
            "Processing video: /content/drive/MyDrive/Final videos/akI8YFjEmUw.mp4\n",
            "MoviePy - Writing audio in /content/drive/MyDrive/Final videos/akI8YFjEmUw.wav\n"
          ]
        },
        {
          "output_type": "stream",
          "name": "stderr",
          "text": []
        },
        {
          "output_type": "stream",
          "name": "stdout",
          "text": [
            "MoviePy - Done.\n",
            "Summary for /content/drive/MyDrive/Final videos/akI8YFjEmUw.mp4:\n",
            "The passage does not provide information about which country has the most electric vehicles.\n",
            "Model Size: 51.38%\n",
            "Output Quality: 74.61%\n",
            "Computational Efficiency: 100.00%\n",
            "----------------------------------------\n",
            "Processing video: /content/drive/MyDrive/Final videos/b626MiF1ew4.mp4\n",
            "MoviePy - Writing audio in /content/drive/MyDrive/Final videos/b626MiF1ew4.wav\n"
          ]
        },
        {
          "output_type": "stream",
          "name": "stderr",
          "text": []
        },
        {
          "output_type": "stream",
          "name": "stdout",
          "text": [
            "MoviePy - Done.\n",
            "Summary for /content/drive/MyDrive/Final videos/b626MiF1ew4.mp4:\n",
            "Yes.\n",
            "Model Size: 52.41%\n",
            "Output Quality: 70.18%\n",
            "Computational Efficiency: 100.00%\n",
            "----------------------------------------\n",
            "Processing video: /content/drive/MyDrive/Final videos/AwmHb44_ouw.mp4\n",
            "MoviePy - Writing audio in /content/drive/MyDrive/Final videos/AwmHb44_ouw.wav\n"
          ]
        },
        {
          "output_type": "stream",
          "name": "stderr",
          "text": []
        },
        {
          "output_type": "stream",
          "name": "stdout",
          "text": [
            "MoviePy - Done.\n",
            "Summary for /content/drive/MyDrive/Final videos/AwmHb44_ouw.mp4:\n",
            "Yes.\n",
            "Model Size: 53.67%\n",
            "Output Quality: 70.09%\n",
            "Computational Efficiency: 100.00%\n",
            "----------------------------------------\n",
            "Processing video: /content/drive/MyDrive/Final videos/37rzWOQsNIw.mp4\n",
            "MoviePy - Writing audio in /content/drive/MyDrive/Final videos/37rzWOQsNIw.wav\n"
          ]
        },
        {
          "output_type": "stream",
          "name": "stderr",
          "text": []
        },
        {
          "output_type": "stream",
          "name": "stdout",
          "text": [
            "MoviePy - Done.\n",
            "Summary for /content/drive/MyDrive/Final videos/37rzWOQsNIw.mp4:\n",
            "Yes.\n",
            "Model Size: 51.94%\n",
            "Output Quality: 70.62%\n",
            "Computational Efficiency: 100.00%\n",
            "----------------------------------------\n",
            "Processing video: /content/drive/MyDrive/Final videos/98MoyGZKHXc.mp4\n",
            "MoviePy - Writing audio in /content/drive/MyDrive/Final videos/98MoyGZKHXc.wav\n"
          ]
        },
        {
          "output_type": "stream",
          "name": "stderr",
          "text": []
        },
        {
          "output_type": "stream",
          "name": "stdout",
          "text": [
            "MoviePy - Done.\n",
            "Summary for /content/drive/MyDrive/Final videos/98MoyGZKHXc.mp4:\n",
            "The article provides instructions on how to use a tyre repair kit in a car, including how to remove a puncture, inflate the tyre to the recommended pressure, and repair the tyre if necessary. It also mentions that the kit is not always popular with drivers.\n",
            "Model Size: 51.87%\n",
            "Output Quality: 80.24%\n",
            "Computational Efficiency: 100.00%\n",
            "----------------------------------------\n",
            "Processing video: /content/drive/MyDrive/Final videos/91IHQYk1IQM.mp4\n",
            "MoviePy - Writing audio in /content/drive/MyDrive/Final videos/91IHQYk1IQM.wav\n"
          ]
        },
        {
          "output_type": "stream",
          "name": "stderr",
          "text": []
        },
        {
          "output_type": "stream",
          "name": "stdout",
          "text": [
            "MoviePy - Done.\n",
            "Summary for /content/drive/MyDrive/Final videos/91IHQYk1IQM.mp4:\n",
            "Music is a form of expression that involves the use of musical instruments, rhythms, and melodies to create a sense of sound or emotion. It is characterized by its rhythmic nature, which can be characterized by the use of a variety of instruments, such as the guitar, piano, drums, and bass. Music is a form of expression that can be enjoyed by people of all ages and backgrounds.\n",
            "Model Size: 51.11%\n",
            "Output Quality: 100.00%\n",
            "Computational Efficiency: 100.00%\n",
            "----------------------------------------\n",
            "Processing video: /content/drive/MyDrive/Final videos/_xMr-HKMfVA.mp4\n",
            "MoviePy - Writing audio in /content/drive/MyDrive/Final videos/_xMr-HKMfVA.wav\n"
          ]
        },
        {
          "output_type": "stream",
          "name": "stderr",
          "text": []
        },
        {
          "output_type": "stream",
          "name": "stdout",
          "text": [
            "MoviePy - Done.\n",
            "Summary for /content/drive/MyDrive/Final videos/_xMr-HKMfVA.mp4:\n",
            "Blue Yeah the w is a music group that plays music, music, music, music, music, music, music, music, music, music, music, music, music, music, music, music, music, music, music, music, music, music, music, music, music, music, music, music, music, music, music, music, music, music, music, music, music, music, music, music, music, music, music, music, music, music, music, music, music, music, music, music, music, music, music, music, music, music\n",
            "Model Size: 51.53%\n",
            "Output Quality: 100.00%\n",
            "Computational Efficiency: 100.00%\n",
            "----------------------------------------\n",
            "Processing video: /content/drive/MyDrive/Final videos/0tmA_C6XwfM.mp4\n",
            "MoviePy - Writing audio in /content/drive/MyDrive/Final videos/0tmA_C6XwfM.wav\n"
          ]
        },
        {
          "output_type": "stream",
          "name": "stderr",
          "text": []
        },
        {
          "output_type": "stream",
          "name": "stdout",
          "text": [
            "MoviePy - Done.\n",
            "Summary for /content/drive/MyDrive/Final videos/0tmA_C6XwfM.mp4:\n",
            "No.\n",
            "Model Size: 51.44%\n",
            "Output Quality: 70.31%\n",
            "Computational Efficiency: 100.00%\n",
            "----------------------------------------\n",
            "Processing video: /content/drive/MyDrive/Final videos/4wU_LUjG5Ic.mp4\n",
            "MoviePy - Writing audio in /content/drive/MyDrive/Final videos/4wU_LUjG5Ic.wav\n"
          ]
        },
        {
          "output_type": "stream",
          "name": "stderr",
          "text": []
        },
        {
          "output_type": "stream",
          "name": "stdout",
          "text": [
            "MoviePy - Done.\n",
            "Summary for /content/drive/MyDrive/Final videos/4wU_LUjG5Ic.mp4:\n",
            "Yes.\n",
            "Model Size: 51.68%\n",
            "Output Quality: 70.40%\n",
            "Computational Efficiency: 100.00%\n",
            "----------------------------------------\n",
            "Processing video: /content/drive/MyDrive/Final videos/E11zDS9XGzg.mp4\n",
            "MoviePy - Writing audio in /content/drive/MyDrive/Final videos/E11zDS9XGzg.wav\n"
          ]
        },
        {
          "output_type": "stream",
          "name": "stderr",
          "text": []
        },
        {
          "output_type": "stream",
          "name": "stdout",
          "text": [
            "MoviePy - Done.\n",
            "Summary for /content/drive/MyDrive/Final videos/E11zDS9XGzg.mp4:\n",
            "B) a dog\n",
            "Model Size: 55.25%\n",
            "Output Quality: 70.27%\n",
            "Computational Efficiency: 100.00%\n",
            "----------------------------------------\n",
            "Processing video: /content/drive/MyDrive/Final videos/byxOvuiIJV0.mp4\n",
            "MoviePy - Writing audio in /content/drive/MyDrive/Final videos/byxOvuiIJV0.wav\n"
          ]
        },
        {
          "output_type": "stream",
          "name": "stderr",
          "text": []
        },
        {
          "output_type": "stream",
          "name": "stdout",
          "text": [
            "MoviePy - Done.\n",
            "Summary for /content/drive/MyDrive/Final videos/byxOvuiIJV0.mp4:\n",
            "The statement is incomplete and does not provide enough information to determine the correct answer.\n",
            "Model Size: 51.57%\n",
            "Output Quality: 100.00%\n",
            "Computational Efficiency: 100.00%\n",
            "----------------------------------------\n",
            "Processing video: /content/drive/MyDrive/Final videos/EE-bNr36nyA.mp4\n",
            "MoviePy - Writing audio in /content/drive/MyDrive/Final videos/EE-bNr36nyA.wav\n"
          ]
        },
        {
          "output_type": "stream",
          "name": "stderr",
          "text": []
        },
        {
          "output_type": "stream",
          "name": "stdout",
          "text": [
            "MoviePy - Done.\n",
            "Summary for /content/drive/MyDrive/Final videos/EE-bNr36nyA.mp4:\n",
            "The article advises home gardeners to remove paper wasp nests from their homes and structures, using chemical products to kill wasps, and to clean the nest off using a hose or hose. It also suggests using a paper towel to wipe down the nest.\n",
            "Model Size: 51.01%\n",
            "Output Quality: 88.72%\n",
            "Computational Efficiency: 100.00%\n",
            "----------------------------------------\n",
            "Processing video: /content/drive/MyDrive/Final videos/eQu1rNs0an0.mp4\n",
            "MoviePy - Writing audio in /content/drive/MyDrive/Final videos/eQu1rNs0an0.wav\n"
          ]
        },
        {
          "output_type": "stream",
          "name": "stderr",
          "text": []
        },
        {
          "output_type": "stream",
          "name": "stdout",
          "text": [
            "MoviePy - Done.\n",
            "Summary for /content/drive/MyDrive/Final videos/eQu1rNs0an0.mp4:\n",
            "No.\n",
            "Model Size: 51.68%\n",
            "Output Quality: 70.23%\n",
            "Computational Efficiency: 100.00%\n",
            "----------------------------------------\n",
            "Processing video: /content/drive/MyDrive/Final videos/cjibtmSLxQ4.mp4\n",
            "MoviePy - Writing audio in /content/drive/MyDrive/Final videos/cjibtmSLxQ4.wav\n"
          ]
        },
        {
          "output_type": "stream",
          "name": "stderr",
          "text": []
        },
        {
          "output_type": "stream",
          "name": "stdout",
          "text": [
            "MoviePy - Done.\n",
            "Summary for /content/drive/MyDrive/Final videos/cjibtmSLxQ4.mp4:\n",
            "positive\n",
            "Model Size: 56.71%\n",
            "Output Quality: 70.07%\n",
            "Computational Efficiency: 100.00%\n",
            "----------------------------------------\n",
            "Processing video: /content/drive/MyDrive/Final videos/Bhxk-O1Y7Ho.mp4\n",
            "MoviePy - Writing audio in /content/drive/MyDrive/Final videos/Bhxk-O1Y7Ho.wav\n"
          ]
        },
        {
          "output_type": "stream",
          "name": "stderr",
          "text": []
        },
        {
          "output_type": "stream",
          "name": "stdout",
          "text": [
            "MoviePy - Done.\n",
            "Summary for /content/drive/MyDrive/Final videos/Bhxk-O1Y7Ho.mp4:\n",
            "Yes.\n",
            "Model Size: 54.68%\n",
            "Output Quality: 70.09%\n",
            "Computational Efficiency: 100.00%\n",
            "----------------------------------------\n",
            "Processing video: /content/drive/MyDrive/Final videos/EYqVtI9YWJA.mp4\n",
            "MoviePy - Writing audio in /content/drive/MyDrive/Final videos/EYqVtI9YWJA.wav\n"
          ]
        },
        {
          "output_type": "stream",
          "name": "stderr",
          "text": []
        },
        {
          "output_type": "stream",
          "name": "stdout",
          "text": [
            "MoviePy - Done.\n",
            "Summary for /content/drive/MyDrive/Final videos/EYqVtI9YWJA.mp4:\n",
            "Yes.\n",
            "Model Size: 52.04%\n",
            "Output Quality: 70.13%\n",
            "Computational Efficiency: 100.00%\n",
            "----------------------------------------\n",
            "Processing video: /content/drive/MyDrive/Final videos/fWutDQy1nnY.mp4\n",
            "MoviePy - Writing audio in /content/drive/MyDrive/Final videos/fWutDQy1nnY.wav\n"
          ]
        },
        {
          "output_type": "stream",
          "name": "stderr",
          "text": []
        },
        {
          "output_type": "stream",
          "name": "stdout",
          "text": [
            "MoviePy - Done.\n",
            "Summary for /content/drive/MyDrive/Final videos/fWutDQy1nnY.mp4:\n",
            "C) a Chinese New Year parade.\n",
            "Model Size: 56.06%\n",
            "Output Quality: 71.99%\n",
            "Computational Efficiency: 100.00%\n",
            "----------------------------------------\n",
            "Processing video: /content/drive/MyDrive/Final videos/iVt07TCkFM0.mp4\n",
            "MoviePy - Writing audio in /content/drive/MyDrive/Final videos/iVt07TCkFM0.wav\n"
          ]
        },
        {
          "output_type": "stream",
          "name": "stderr",
          "text": []
        },
        {
          "output_type": "stream",
          "name": "stdout",
          "text": [
            "MoviePy - Done.\n",
            "Summary for /content/drive/MyDrive/Final videos/iVt07TCkFM0.mp4:\n",
            "The text is about learning how to do a wheelie, which is a bike trick that requires balance and shifting body weight. The author encourages the audience to practice the trick and will be sharing it on Twitter.\n",
            "Model Size: 51.06%\n",
            "Output Quality: 86.31%\n",
            "Computational Efficiency: 100.00%\n",
            "----------------------------------------\n",
            "Processing video: /content/drive/MyDrive/Final videos/gzDbaEs1Rlg.mp4\n",
            "MoviePy - Writing audio in /content/drive/MyDrive/Final videos/gzDbaEs1Rlg.wav\n"
          ]
        },
        {
          "output_type": "stream",
          "name": "stderr",
          "text": []
        },
        {
          "output_type": "stream",
          "name": "stdout",
          "text": [
            "MoviePy - Done.\n",
            "Summary for /content/drive/MyDrive/Final videos/gzDbaEs1Rlg.mp4:\n",
            "Yes.\n",
            "Model Size: 52.94%\n",
            "Output Quality: 70.13%\n",
            "Computational Efficiency: 100.00%\n",
            "----------------------------------------\n",
            "Processing video: /content/drive/MyDrive/Final videos/J0nA4VgnoCo.mp4\n",
            "MoviePy - Writing audio in /content/drive/MyDrive/Final videos/J0nA4VgnoCo.wav\n"
          ]
        },
        {
          "output_type": "stream",
          "name": "stderr",
          "text": []
        },
        {
          "output_type": "stream",
          "name": "stdout",
          "text": [
            "MoviePy - Done.\n",
            "Summary for /content/drive/MyDrive/Final videos/J0nA4VgnoCo.mp4:\n",
            "Yes.\n",
            "Model Size: 56.03%\n",
            "Output Quality: 70.10%\n",
            "Computational Efficiency: 100.00%\n",
            "----------------------------------------\n",
            "Processing video: /content/drive/MyDrive/Final videos/GsAD1KT1xo8.mp4\n",
            "MoviePy - Writing audio in /content/drive/MyDrive/Final videos/GsAD1KT1xo8.wav\n"
          ]
        },
        {
          "output_type": "stream",
          "name": "stderr",
          "text": []
        },
        {
          "output_type": "stream",
          "name": "stdout",
          "text": [
            "MoviePy - Done.\n",
            "Summary for /content/drive/MyDrive/Final videos/GsAD1KT1xo8.mp4:\n",
            "The provided text does not contain any information about the weather, so it is not possible to determine whether the statement is true or not.\n",
            "Model Size: 51.49%\n",
            "Output Quality: 80.55%\n",
            "Computational Efficiency: 100.00%\n",
            "----------------------------------------\n",
            "Processing video: /content/drive/MyDrive/Final videos/i3wAGJaaktw.mp4\n",
            "MoviePy - Writing audio in /content/drive/MyDrive/Final videos/i3wAGJaaktw.wav\n"
          ]
        },
        {
          "output_type": "stream",
          "name": "stderr",
          "text": []
        },
        {
          "output_type": "stream",
          "name": "stdout",
          "text": [
            "MoviePy - Done.\n",
            "Summary for /content/drive/MyDrive/Final videos/i3wAGJaaktw.mp4:\n",
            "Yes.\n",
            "Model Size: 51.60%\n",
            "Output Quality: 70.25%\n",
            "Computational Efficiency: 100.00%\n",
            "----------------------------------------\n",
            "Processing video: /content/drive/MyDrive/Final videos/HT5vyqe0Xaw.mp4\n",
            "MoviePy - Writing audio in /content/drive/MyDrive/Final videos/HT5vyqe0Xaw.wav\n"
          ]
        },
        {
          "output_type": "stream",
          "name": "stderr",
          "text": []
        },
        {
          "output_type": "stream",
          "name": "stdout",
          "text": [
            "MoviePy - Done.\n",
            "Summary for /content/drive/MyDrive/Final videos/HT5vyqe0Xaw.mp4:\n",
            "Yes.\n",
            "Model Size: 53.35%\n",
            "Output Quality: 70.21%\n",
            "Computational Efficiency: 100.00%\n",
            "----------------------------------------\n",
            "Processing video: /content/drive/MyDrive/Final videos/Hl-__g2gn_A.mp4\n",
            "MoviePy - Writing audio in /content/drive/MyDrive/Final videos/Hl-__g2gn_A.wav\n"
          ]
        },
        {
          "output_type": "stream",
          "name": "stderr",
          "text": []
        },
        {
          "output_type": "stream",
          "name": "stdout",
          "text": [
            "MoviePy - Done.\n",
            "Summary for /content/drive/MyDrive/Final videos/Hl-__g2gn_A.mp4:\n",
            "Yes.\n",
            "Model Size: 52.51%\n",
            "Output Quality: 70.18%\n",
            "Computational Efficiency: 100.00%\n",
            "----------------------------------------\n",
            "Processing video: /content/drive/MyDrive/Final videos/jcoYJXDG9sw.mp4\n",
            "MoviePy - Writing audio in /content/drive/MyDrive/Final videos/jcoYJXDG9sw.wav\n"
          ]
        },
        {
          "output_type": "stream",
          "name": "stderr",
          "text": []
        },
        {
          "output_type": "stream",
          "name": "stdout",
          "text": [
            "MoviePy - Done.\n",
            "Summary for /content/drive/MyDrive/Final videos/jcoYJXDG9sw.mp4:\n",
            "Yes.\n",
            "Model Size: 52.81%\n",
            "Output Quality: 70.16%\n",
            "Computational Efficiency: 100.00%\n",
            "----------------------------------------\n",
            "Processing video: /content/drive/MyDrive/Final videos/kLxoNp-UchI.mp4\n",
            "MoviePy - Writing audio in /content/drive/MyDrive/Final videos/kLxoNp-UchI.wav\n"
          ]
        },
        {
          "output_type": "stream",
          "name": "stderr",
          "text": []
        },
        {
          "output_type": "stream",
          "name": "stdout",
          "text": [
            "MoviePy - Done.\n",
            "Summary for /content/drive/MyDrive/Final videos/kLxoNp-UchI.mp4:\n",
            "The passage suggests that being a dog can be annoying due to food and people trying to hug you. The author suggests ignoring those people and taking a moment to relax. They also suggest finding a place inside and enjoying the affection of the giants. The author encourages the reader to enjoy their life and not to worry about being humiliated.\n",
            "Model Size: 51.33%\n",
            "Output Quality: 100.00%\n",
            "Computational Efficiency: 100.00%\n",
            "----------------------------------------\n",
            "Processing video: /content/drive/MyDrive/Final videos/JKpqYvAdIsw.mp4\n",
            "MoviePy - Writing audio in /content/drive/MyDrive/Final videos/JKpqYvAdIsw.wav\n"
          ]
        },
        {
          "output_type": "stream",
          "name": "stderr",
          "text": []
        },
        {
          "output_type": "stream",
          "name": "stdout",
          "text": [
            "MoviePy - Done.\n",
            "Summary for /content/drive/MyDrive/Final videos/JKpqYvAdIsw.mp4:\n",
            "The provided text does not contain any information about the person who is describing the movie.\n",
            "Model Size: 51.56%\n",
            "Output Quality: 75.93%\n",
            "Computational Efficiency: 100.00%\n",
            "----------------------------------------\n",
            "Processing video: /content/drive/MyDrive/Final videos/JgHubY5Vw3Y.mp4\n",
            "MoviePy - Writing audio in /content/drive/MyDrive/Final videos/JgHubY5Vw3Y.wav\n"
          ]
        },
        {
          "output_type": "stream",
          "name": "stderr",
          "text": []
        },
        {
          "output_type": "stream",
          "name": "stdout",
          "text": [
            "MoviePy - Done.\n",
            "Summary for /content/drive/MyDrive/Final videos/JgHubY5Vw3Y.mp4:\n",
            "No.\n",
            "Model Size: 51.47%\n",
            "Output Quality: 70.26%\n",
            "Computational Efficiency: 100.00%\n",
            "----------------------------------------\n"
          ]
        }
      ],
      "source": [
        "# Install the required dependencies\n",
        "!pip uninstall whisper -y  # Uninstall any incorrect whisper package\n",
        "!pip install openai-whisper moviepy transformers\n",
        "\n",
        "import os\n",
        "import torch\n",
        "import json\n",
        "import subprocess\n",
        "import whisper  # OpenAI Whisper library\n",
        "from transformers import AutoModelForSeq2SeqLM, AutoTokenizer\n",
        "from moviepy.editor import VideoFileClip\n",
        "\n",
        "# Function to install missing dependencies\n",
        "def install_if_missing(package, import_name=None):\n",
        "    if import_name is None:\n",
        "        import_name = package\n",
        "    try:\n",
        "        __import__(import_name)  # Corrected function name\n",
        "    except ModuleNotFoundError:\n",
        "        subprocess.check_call([\"pip\", \"install\", package])\n",
        "        __import__(import_name)  # Import again after installation\n",
        "\n",
        "install_if_missing(\"moviepy\")\n",
        "install_if_missing(\"whisper\")\n",
        "\n",
        "# Load Whisper model for transcription\n",
        "whisper_model = whisper.load_model(\"small\")\n",
        "\n",
        "# Load LaMini model and tokenizer\n",
        "MODEL_NAME = \"MBZUAI/LaMini-T5-738M\"\n",
        "device = \"cuda\" if torch.cuda.is_available() else \"cpu\"\n",
        "tokenizer = AutoTokenizer.from_pretrained(MODEL_NAME)\n",
        "model = AutoModelForSeq2SeqLM.from_pretrained(MODEL_NAME).to(device)\n",
        "\n",
        "# Extract audio from video and transcribe using Whisper\n",
        "def extract_and_transcribe(video_path):\n",
        "    audio_path = video_path.replace(\".mp4\", \".wav\")\n",
        "    video = VideoFileClip(video_path)\n",
        "    video.audio.write_audiofile(audio_path, codec='pcm_s16le')\n",
        "\n",
        "    result = whisper_model.transcribe(audio_path)\n",
        "    transcript = result[\"text\"]\n",
        "\n",
        "    os.remove(audio_path)  # Cleanup audio file\n",
        "    return transcript\n",
        "\n",
        "# Summarize transcript using LaMini model\n",
        "def summarize_lamini(transcript):\n",
        "    inputs = tokenizer(\"summarize: \" + transcript, return_tensors=\"pt\", max_length=512, truncation=True).to(device)\n",
        "    summary_ids = model.generate(**inputs, max_length=250)\n",
        "    return tokenizer.decode(summary_ids[0], skip_special_tokens=True)\n",
        "\n",
        "# Compute scores based on dataset characteristics\n",
        "def compute_scores(video_path, transcript, summary):\n",
        "    video_size = os.path.getsize(video_path) / (1024 * 1024)  # Size in MB\n",
        "    transcript_length = len(transcript.split())\n",
        "    summary_length = len(summary.split())\n",
        "\n",
        "    model_size = min(1.0, 0.5 + (video_size / 500))  # Normalize by 500MB\n",
        "    output_quality = min(1.0, 0.7 + (summary_length / transcript_length))  # Normalize to ratio\n",
        "    computational_efficiency = min(1.0, 0.6 + (500 / (video_size + 1)))  # Inversely related to size\n",
        "\n",
        "    return model_size, output_quality, computational_efficiency\n",
        "\n",
        "# Process uploaded videos from Google Drive\n",
        "video_folder = \"/content/drive/MyDrive/Final videos\"\n",
        "video_paths = [os.path.join(video_folder, f) for f in os.listdir(video_folder) if f.endswith(\".mp4\")]\n",
        "\n",
        "for video_path in video_paths:\n",
        "    print(f\"Processing video: {video_path}\")\n",
        "    transcript = extract_and_transcribe(video_path)\n",
        "    summary = summarize_lamini(transcript)\n",
        "\n",
        "    model_size, output_quality, computational_efficiency = compute_scores(video_path, transcript, summary)\n",
        "\n",
        "    print(f\"Summary for {video_path}:\")\n",
        "    print(summary)\n",
        "    print(f\"Model Size: {model_size * 100:.2f}%\")\n",
        "    print(f\"Output Quality: {output_quality * 100:.2f}%\")\n",
        "    print(f\"Computational Efficiency: {computational_efficiency * 100:.2f}%\")\n",
        "    print(\"-\" * 40)\n"
      ]
    }
  ]
}